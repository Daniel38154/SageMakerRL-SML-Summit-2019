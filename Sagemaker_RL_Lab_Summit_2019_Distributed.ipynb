{
 "cells": [
  {
   "cell_type": "markdown",
   "metadata": {},
   "source": [
    "# Training Gym agents using distributed RL training across multiple nodes with Amazon SageMaker"
   ]
  },
  {
   "cell_type": "code",
   "execution_count": 35,
   "metadata": {},
   "outputs": [],
   "source": [
    "# Uncomment the problem to work on\n",
    "# gym_problem = 'cartpole'\n",
    "gym_problem = 'pong'"
   ]
  },
  {
   "cell_type": "markdown",
   "metadata": {},
   "source": [
    "## Pre-requisites \n",
    "\n",
    "### Imports\n",
    "\n",
    "To get started, we'll import the Python libraries we need, set up the environment with a few prerequisites for permissions and configurations."
   ]
  },
  {
   "cell_type": "code",
   "execution_count": 2,
   "metadata": {
    "scrolled": true
   },
   "outputs": [],
   "source": [
    "import sagemaker\n",
    "import boto3\n",
    "import sys\n",
    "import os\n",
    "import glob\n",
    "import re\n",
    "import subprocess\n",
    "from IPython.display import HTML, Markdown\n",
    "import time\n",
    "from time import gmtime, strftime\n",
    "sys.path.append(\"common\")\n",
    "from misc import get_execution_role, wait_for_s3_object\n",
    "from docker_utils import build_and_push_docker_image\n",
    "from sagemaker.rl import RLEstimator, RLToolkit, RLFramework\n",
    "from markdown_helper import generate_help_for_s3_endpoint_permissions, create_s3_endpoint_manually"
   ]
  },
  {
   "cell_type": "markdown",
   "metadata": {},
   "source": [
    "### Setup S3 bucket\n",
    "\n",
    "Set up the linkage and authentication to the S3 bucket that you want to use for checkpoint and the metadata. "
   ]
  },
  {
   "cell_type": "code",
   "execution_count": 3,
   "metadata": {},
   "outputs": [
    {
     "name": "stdout",
     "output_type": "stream",
     "text": [
      "S3 bucket path: s3://sagemaker-ap-northeast-1-413953306596/\n"
     ]
    }
   ],
   "source": [
    "sage_session = sagemaker.session.Session()\n",
    "s3_bucket = sage_session.default_bucket()  \n",
    "s3_output_path = 's3://{}/'.format(s3_bucket)\n",
    "print(\"S3 bucket path: {}\".format(s3_output_path))"
   ]
  },
  {
   "cell_type": "markdown",
   "metadata": {},
   "source": [
    "### Define Variables \n",
    "\n",
    "We define variables such as the job prefix for the training jobs *and the image path for the container (only when this is BYOC).*"
   ]
  },
  {
   "cell_type": "code",
   "execution_count": 4,
   "metadata": {},
   "outputs": [],
   "source": [
    "# create a descriptive job name \n",
    "job_name_prefix = 'rl-gym-distributed-' + gym_problem\n",
    "aws_region = boto3.Session().region_name"
   ]
  },
  {
   "cell_type": "markdown",
   "metadata": {},
   "source": [
    "### Configure where training happens\n",
    "\n",
    "You can train your RL training jobs using the SageMaker notebook instance or local notebook instance. In both of these scenarios, you can run the following in either local or SageMaker modes. The local mode uses the SageMaker Python SDK to run your code in a local container before deploying to SageMaker. This can speed up iterative testing and debugging while using the same familiar Python SDK interface. You just need to set `local_mode = True`."
   ]
  },
  {
   "cell_type": "code",
   "execution_count": 55,
   "metadata": {},
   "outputs": [],
   "source": [
    "# run in local_mode on this machine, or as a SageMaker TrainingJob?\n",
    "local_mode = False\n",
    "\n",
    "if local_mode:\n",
    "    instance_type = 'local'\n",
    "else:\n",
    "    # If on SageMaker, pick the instance type\n",
    "#     instance_type = \"ml.c5.2xlarge\"\n",
    "#     instance_type = \"ml.p3.2xlarge\"\n",
    "    instance_type = \"ml.p3.8xlarge\"\n",
    "#     instance_type = \"ml.p3.16xlarge\"\n",
    "#     instance_type = \"ml.m4.10xlarge\"\n",
    "    \n",
    "    \n",
    "train_instance_count = 1"
   ]
  },
  {
   "cell_type": "markdown",
   "metadata": {},
   "source": [
    "### Create an IAM role\n",
    "\n",
    "Either get the execution role when running from a SageMaker notebook instance `role = sagemaker.get_execution_role()` or, when running from local notebook instance, use utils method `role = get_execution_role()` to create an execution role."
   ]
  },
  {
   "cell_type": "code",
   "execution_count": 6,
   "metadata": {},
   "outputs": [
    {
     "name": "stdout",
     "output_type": "stream",
     "text": [
      "Using IAM role arn: arn:aws:iam::413953306596:role/service-role/AmazonSageMaker-ExecutionRole-20180511T160035\n"
     ]
    }
   ],
   "source": [
    "try:\n",
    "    role = sagemaker.get_execution_role()\n",
    "except:\n",
    "    role = get_execution_role()\n",
    "\n",
    "print(\"Using IAM role arn: {}\".format(role))"
   ]
  },
  {
   "cell_type": "markdown",
   "metadata": {},
   "source": [
    "### Install docker for `local` mode\n",
    "\n",
    "In order to work in `local` mode, you need to have docker installed. When running from you local machine, please make sure that you have docker and docker-compose (for local CPU machines) and nvidia-docker (for local GPU machines) installed. Alternatively, when running from a SageMaker notebook instance, you can simply run the following script to install dependenceis.\n",
    "\n",
    "Note, you can only run a single local notebook at one time."
   ]
  },
  {
   "cell_type": "code",
   "execution_count": 7,
   "metadata": {},
   "outputs": [],
   "source": [
    "# only run from SageMaker notebook instance\n",
    "if local_mode:\n",
    "    !/bin/bash ./common/setup.sh"
   ]
  },
  {
   "cell_type": "markdown",
   "metadata": {},
   "source": [
    "## Build docker container\n",
    "\n",
    "We must build a custom docker container with Gym[Atari] installed.  This takes care of everything:\n",
    "\n",
    "1. Fetching base container image\n",
    "2. Installing Gym[Atari] and its dependencies\n",
    "3. Uploading the new container image to ECR\n",
    "\n",
    "This step can take a long time if you are running on a machine with a slow internet connection.  If your notebook instance is in SageMaker or EC2 it should take 3-10 minutes depending on the instance type.\n"
   ]
  },
  {
   "cell_type": "code",
   "execution_count": 60,
   "metadata": {
    "scrolled": true
   },
   "outputs": [
    {
     "name": "stdout",
     "output_type": "stream",
     "text": [
      "WARNING! Using --password via the CLI is insecure. Use --password-stdin.\n",
      "WARNING! Your password will be stored unencrypted in /home/ec2-user/.docker/config.json.\n",
      "Configure a credential helper to remove this warning. See\n",
      "https://docs.docker.com/engine/reference/commandline/login/#credentials-store\n",
      "\n",
      "Login Succeeded\n",
      "Logged into ECR\n",
      "Building docker image sagemaker-gym-ray-gpu from Dockerfile\n",
      "$ docker build -t sagemaker-gym-ray-gpu -f Dockerfile . --build-arg CPU_OR_GPU=gpu --build-arg AWS_REGION=ap-northeast-1\n",
      "Sending build context to Docker daemon  2.144MB\n",
      "Step 1/12 : ARG CPU_OR_GPU\n",
      "Step 2/12 : ARG AWS_REGION\n",
      "Step 3/12 : FROM 520713654638.dkr.ecr.${AWS_REGION}.amazonaws.com/sagemaker-rl-tensorflow:ray0.5.3-${CPU_OR_GPU}-py3\n",
      " ---> 8d64d9f985b7\n",
      "Step 4/12 : WORKDIR /opt/ml\n",
      " ---> Using cache\n",
      " ---> 6a7b53433147\n",
      "Step 5/12 : RUN apt-get update && apt-get install -y       git cmake ffmpeg pkg-config       qtbase5-dev libqt5opengl5-dev libassimp-dev       libpython3.5-dev libtinyxml-dev     && cd /opt     && apt-get clean && rm -rf /var/cache/apt/archives/* /var/lib/apt/lists/*\n",
      " ---> Using cache\n",
      " ---> f17c1f005da4\n",
      "Step 6/12 : RUN pip install --upgrade     pip     setuptools\n",
      " ---> Using cache\n",
      " ---> c09301fd9387\n",
      "Step 7/12 : RUN pip install -U gym && pip install gym[atari] && pip install -U ray && ldconfig\n",
      " ---> Using cache\n",
      " ---> cc5beaaebe79\n",
      "Step 8/12 : RUN pip install setproctitle\n",
      " ---> Using cache\n",
      " ---> 6a248bcd75cb\n",
      "Step 9/12 : RUN pip install sagemaker-containers --upgrade\n",
      " ---> Using cache\n",
      " ---> a8732aaeed93\n",
      "Step 10/12 : ENV PYTHONUNBUFFERED 1\n",
      " ---> Using cache\n",
      " ---> 3368f3ce3c3e\n",
      "Step 11/12 : RUN python -c \"import gym;import sagemaker_containers.cli.train; import ray; from sagemaker_containers.cli.train import main\"\n",
      " ---> Using cache\n",
      " ---> be6f9c97b233\n",
      "Step 12/12 : WORKDIR /opt/ml/code\n",
      " ---> Using cache\n",
      " ---> 91e3b9beeaf4\n",
      "Successfully built 91e3b9beeaf4\n",
      "Successfully tagged sagemaker-gym-ray-gpu:latest\n",
      "Done building docker image sagemaker-gym-ray-gpu\n",
      "ECR repository already exists: sagemaker-gym-ray-gpu\n",
      "WARNING! Using --password via the CLI is insecure. Use --password-stdin.\n",
      "WARNING! Your password will be stored unencrypted in /home/ec2-user/.docker/config.json.\n",
      "Configure a credential helper to remove this warning. See\n",
      "https://docs.docker.com/engine/reference/commandline/login/#credentials-store\n",
      "\n",
      "Login Succeeded\n",
      "Logged into ECR\n",
      "$ docker tag sagemaker-gym-ray-gpu 413953306596.dkr.ecr.ap-northeast-1.amazonaws.com/sagemaker-gym-ray-gpu\n",
      "Pushing docker image to ECR repository 413953306596.dkr.ecr.ap-northeast-1.amazonaws.com/sagemaker-gym-ray-gpu\n",
      "\n",
      "$ docker push 413953306596.dkr.ecr.ap-northeast-1.amazonaws.com/sagemaker-gym-ray-gpu\n",
      "The push refers to repository [413953306596.dkr.ecr.ap-northeast-1.amazonaws.com/sagemaker-gym-ray-gpu]\n",
      "f79025d6867b: Preparing\n",
      "bec283717b6b: Preparing\n",
      "ffc7afa703b1: Preparing\n",
      "b62454a7b8ae: Preparing\n",
      "447fa1b97b14: Preparing\n",
      "2758a59654b2: Preparing\n",
      "58814c60871c: Preparing\n",
      "2acf39a8b48b: Preparing\n",
      "034dc2c07b9e: Preparing\n",
      "d56186dc2f5e: Preparing\n",
      "36cb14e2633d: Preparing\n",
      "5a9c8dc260f7: Preparing\n",
      "8aac526fdc01: Preparing\n",
      "b57fe89d7ca1: Preparing\n",
      "302af95b9e68: Preparing\n",
      "1b7c37db47f8: Preparing\n",
      "4ebe216077d5: Preparing\n",
      "88812efafaa2: Preparing\n",
      "a26889aca8a4: Preparing\n",
      "a0776517737a: Preparing\n",
      "621c51016399: Preparing\n",
      "145eb658aaf0: Preparing\n",
      "e6c3a9c7c79e: Preparing\n",
      "f1dfa8049aa6: Preparing\n",
      "79109c0f8a0b: Preparing\n",
      "33db8ccd260b: Preparing\n",
      "b8c891f0ffec: Preparing\n",
      "2758a59654b2: Waiting\n",
      "58814c60871c: Waiting\n",
      "2acf39a8b48b: Waiting\n",
      "034dc2c07b9e: Waiting\n",
      "d56186dc2f5e: Waiting\n",
      "36cb14e2633d: Waiting\n",
      "5a9c8dc260f7: Waiting\n",
      "8aac526fdc01: Waiting\n",
      "b57fe89d7ca1: Waiting\n",
      "302af95b9e68: Waiting\n",
      "1b7c37db47f8: Waiting\n",
      "4ebe216077d5: Waiting\n",
      "88812efafaa2: Waiting\n",
      "a26889aca8a4: Waiting\n",
      "a0776517737a: Waiting\n",
      "621c51016399: Waiting\n",
      "145eb658aaf0: Waiting\n",
      "e6c3a9c7c79e: Waiting\n",
      "f1dfa8049aa6: Waiting\n",
      "79109c0f8a0b: Waiting\n",
      "33db8ccd260b: Waiting\n",
      "b8c891f0ffec: Waiting\n",
      "b62454a7b8ae: Layer already exists\n",
      "bec283717b6b: Layer already exists\n",
      "447fa1b97b14: Layer already exists\n",
      "f79025d6867b: Layer already exists\n",
      "ffc7afa703b1: Layer already exists\n",
      "2758a59654b2: Layer already exists\n",
      "2acf39a8b48b: Layer already exists\n",
      "d56186dc2f5e: Layer already exists\n",
      "58814c60871c: Layer already exists\n",
      "034dc2c07b9e: Layer already exists\n",
      "b57fe89d7ca1: Layer already exists\n",
      "5a9c8dc260f7: Layer already exists\n",
      "36cb14e2633d: Layer already exists\n",
      "8aac526fdc01: Layer already exists\n",
      "302af95b9e68: Layer already exists\n",
      "1b7c37db47f8: Layer already exists\n",
      "a0776517737a: Layer already exists\n",
      "4ebe216077d5: Layer already exists\n",
      "a26889aca8a4: Layer already exists\n",
      "88812efafaa2: Layer already exists\n",
      "621c51016399: Layer already exists\n",
      "145eb658aaf0: Layer already exists\n",
      "f1dfa8049aa6: Layer already exists\n",
      "e6c3a9c7c79e: Layer already exists\n",
      "79109c0f8a0b: Layer already exists\n",
      "33db8ccd260b: Layer already exists\n",
      "b8c891f0ffec: Layer already exists\n",
      "latest: digest: sha256:1de1b6f93dd36a4f611d24449c7cb1dea1948e8532ed8b071bd7d012e91e2546 size: 5987\n",
      "Done pushing 413953306596.dkr.ecr.ap-northeast-1.amazonaws.com/sagemaker-gym-ray-gpu\n",
      "Using ECR image 413953306596.dkr.ecr.ap-northeast-1.amazonaws.com/sagemaker-gym-ray-gpu\n",
      "CPU times: user 106 ms, sys: 38.1 ms, total: 144 ms\n",
      "Wall time: 2.13 s\n"
     ]
    }
   ],
   "source": [
    "%%time\n",
    "\n",
    "cpu_or_gpu = 'gpu' if instance_type.startswith('ml.p') else 'cpu'\n",
    "repository_short_name = \"sagemaker-gym-ray-%s\" % cpu_or_gpu\n",
    "docker_build_args = {\n",
    "    'CPU_OR_GPU': cpu_or_gpu, \n",
    "    'AWS_REGION': boto3.Session().region_name,\n",
    "}\n",
    "custom_image_name = build_and_push_docker_image(repository_short_name, build_args=docker_build_args)\n",
    "print(\"Using ECR image %s\" % custom_image_name)"
   ]
  },
  {
   "cell_type": "markdown",
   "metadata": {},
   "source": [
    "## Write the Training Code\n",
    "\n",
    "The training code is in a series of \n",
    "The training code is written in the file “train-{gym_problem}.py” which is uploaded in the /src directory. \n",
    "First import the environment files and the preset files, and then define the main() function. "
   ]
  },
  {
   "cell_type": "code",
   "execution_count": 12,
   "metadata": {},
   "outputs": [
    {
     "name": "stdout",
     "output_type": "stream",
     "text": [
      "Error: cannot read infile: [Errno 2] No such file or directory: 'src/train-{gym_problem}.py'\r\n"
     ]
    }
   ],
   "source": [
    "!pygmentize src/train-{gym_problem}.py"
   ]
  },
  {
   "cell_type": "markdown",
   "metadata": {},
   "source": [
    "## Ray homogeneous scaling - Specify train_instance_count > 1"
   ]
  },
  {
   "cell_type": "markdown",
   "metadata": {},
   "source": [
    "Homogeneous scaling allows us to use multiple instances of the same type."
   ]
  },
  {
   "cell_type": "code",
   "execution_count": 61,
   "metadata": {
    "scrolled": true
   },
   "outputs": [
    {
     "name": "stderr",
     "output_type": "stream",
     "text": [
      "INFO:sagemaker:Creating training-job with name: rl-gym-distributed-pong-2019-04-14-14-29-42-184\n"
     ]
    },
    {
     "name": "stdout",
     "output_type": "stream",
     "text": [
      "Training job: rl-gym-distributed-pong-2019-04-14-14-29-42-184\n"
     ]
    }
   ],
   "source": [
    "metric_definitions = RLEstimator.default_metric_definitions(RLToolkit.RAY)\n",
    "    \n",
    "estimator = RLEstimator(entry_point=\"train-%s.py\" % gym_problem,\n",
    "                        source_dir='src',\n",
    "                        dependencies=[\"common/sagemaker_rl\"],\n",
    "                        image_name=custom_image_name,\n",
    "                        role=role,\n",
    "                        train_instance_type=instance_type,\n",
    "                        train_instance_count=train_instance_count,\n",
    "                        output_path=s3_output_path,\n",
    "                        base_job_name=job_name_prefix,\n",
    "                        metric_definitions=metric_definitions,\n",
    "                        hyperparameters={\n",
    "                          # Attention scientists!  You can override any Ray algorithm parameter here:\n",
    "                            \n",
    "                            # 3 m4.2xl with 8 cores each. We have to leave 1 core for ray scheduler.\n",
    "                            # Don't forget to change this on the basis of instance type.\n",
    "                            \"rl.training.config.num_workers\": 4,\n",
    "                            \"rl.training.config.num_gpus\": 1\n",
    "                            \n",
    "                          #\"rl.training.config.horizon\": 5000,\n",
    "                          #\"rl.training.config.num_sgd_iter\": 10,\n",
    "                        }\n",
    "                    )\n",
    "\n",
    "estimator.fit(wait=local_mode)\n",
    "job_name = estimator.latest_training_job.job_name\n",
    "print(\"Training job: %s\" % job_name)"
   ]
  },
  {
   "cell_type": "markdown",
   "metadata": {},
   "source": [
    "### Visualization\n",
    "\n",
    "RL training can take a long time.  So while it's running there are a variety of ways we can track progress of the running training job.  Some intermediate output gets saved to S3 during training, so we'll set up to capture that."
   ]
  },
  {
   "cell_type": "code",
   "execution_count": 13,
   "metadata": {},
   "outputs": [
    {
     "name": "stdout",
     "output_type": "stream",
     "text": [
      "Job name: rl-gym-distributed-cartpole-2019-03-27-15-07-35-579\n",
      "S3 job path: s3://sagemaker-ap-northeast-1-669108200413/rl-gym-distributed-cartpole-2019-03-27-15-07-35-579\n",
      "Output.tar.gz location: s3://sagemaker-ap-northeast-1-669108200413/rl-gym-distributed-cartpole-2019-03-27-15-07-35-579/output/output.tar.gz\n",
      "Intermediate folder path: s3://sagemaker-ap-northeast-1-669108200413/rl-gym-distributed-cartpole-2019-03-27-15-07-35-579/output/intermediate/\n",
      "Create local folder /tmp/rl-gym-distributed-cartpole-2019-03-27-15-07-35-579\n"
     ]
    }
   ],
   "source": [
    "print(\"Job name: {}\".format(job_name))\n",
    "\n",
    "s3_url = \"s3://{}/{}\".format(s3_bucket,job_name)\n",
    "\n",
    "if local_mode:\n",
    "    output_tar_key = \"{}/output.tar.gz\".format(job_name)\n",
    "else:\n",
    "    output_tar_key = \"{}/output/output.tar.gz\".format(job_name)\n",
    "\n",
    "intermediate_folder_key = \"{}/output/intermediate/\".format(job_name)\n",
    "output_url = \"s3://{}/{}\".format(s3_bucket, output_tar_key)\n",
    "intermediate_url = \"s3://{}/{}\".format(s3_bucket, intermediate_folder_key)\n",
    "\n",
    "print(\"S3 job path: {}\".format(s3_url))\n",
    "print(\"Output.tar.gz location: {}\".format(output_url))\n",
    "print(\"Intermediate folder path: {}\".format(intermediate_url))\n",
    "    \n",
    "tmp_dir = \"/tmp/{}\".format(job_name)\n",
    "os.system(\"mkdir {}\".format(tmp_dir))\n",
    "print(\"Create local folder {}\".format(tmp_dir))"
   ]
  },
  {
   "cell_type": "markdown",
   "metadata": {},
   "source": [
    "### Fetch videos of training rollouts\n",
    "Videos of certain rollouts get written to S3 during training.  Here we fetch the last 10 videos from S3, and render the last one."
   ]
  },
  {
   "cell_type": "code",
   "execution_count": 16,
   "metadata": {
    "scrolled": false
   },
   "outputs": [
    {
     "name": "stdout",
     "output_type": "stream",
     "text": [
      "Waiting for s3://sagemaker-ap-northeast-1-669108200413/rl-gym-distributed-cartpole-2019-03-27-15-07-35-579/output/intermediate/...\n",
      "Only downloading 10 of 102 files\n",
      "Downloading rl-gym-distributed-cartpole-2019-03-27-15-07-35-579/output/intermediate/training/PPO_CartPole-v0_0_2019-03-27_15-10-37xagwkc8t/openaigym.video.0.133.video000008.mp4\n",
      "Downloading rl-gym-distributed-cartpole-2019-03-27-15-07-35-579/output/intermediate/training/PPO_CartPole-v0_0_2019-03-27_15-10-37xagwkc8t/openaigym.video.0.133.video000027.mp4\n",
      "Downloading rl-gym-distributed-cartpole-2019-03-27-15-07-35-579/output/intermediate/training/PPO_CartPole-v0_0_2019-03-27_15-10-37xagwkc8t/openaigym.video.0.133.video000064.mp4\n",
      "Downloading rl-gym-distributed-cartpole-2019-03-27-15-07-35-579/output/intermediate/training/PPO_CartPole-v0_0_2019-03-27_15-10-37xagwkc8t/openaigym.video.0.133.video000125.mp4\n",
      "Downloading rl-gym-distributed-cartpole-2019-03-27-15-07-35-579/output/intermediate/training/PPO_CartPole-v0_0_2019-03-27_15-10-37xagwkc8t/openaigym.video.0.134.video000000.mp4\n",
      "Downloading rl-gym-distributed-cartpole-2019-03-27-15-07-35-579/output/intermediate/training/PPO_CartPole-v0_0_2019-03-27_15-10-37xagwkc8t/openaigym.video.0.134.video000001.mp4\n",
      "Downloading rl-gym-distributed-cartpole-2019-03-27-15-07-35-579/output/intermediate/training/PPO_CartPole-v0_0_2019-03-27_15-10-37xagwkc8t/openaigym.video.0.134.video000008.mp4\n",
      "Downloading rl-gym-distributed-cartpole-2019-03-27-15-07-35-579/output/intermediate/training/PPO_CartPole-v0_0_2019-03-27_15-10-37xagwkc8t/openaigym.video.0.134.video000027.mp4\n",
      "Downloading rl-gym-distributed-cartpole-2019-03-27-15-07-35-579/output/intermediate/training/PPO_CartPole-v0_0_2019-03-27_15-10-37xagwkc8t/openaigym.video.0.134.video000064.mp4\n",
      "Downloading rl-gym-distributed-cartpole-2019-03-27-15-07-35-579/output/intermediate/training/PPO_CartPole-v0_0_2019-03-27_15-10-37xagwkc8t/openaigym.video.0.134.video000125.mp4\n"
     ]
    }
   ],
   "source": [
    "recent_videos = wait_for_s3_object(s3_bucket, intermediate_folder_key, tmp_dir, \n",
    "                                fetch_only=(lambda obj: obj.key.endswith(\".mp4\") and obj.size>0), limit=10)"
   ]
  },
  {
   "cell_type": "code",
   "execution_count": 17,
   "metadata": {},
   "outputs": [
    {
     "data": {
      "text/html": [
       "<video src=\"./src/tmp_render/last_video.mp4\" controls autoplay></video>"
      ],
      "text/plain": [
       "<IPython.core.display.HTML object>"
      ]
     },
     "execution_count": 17,
     "metadata": {},
     "output_type": "execute_result"
    }
   ],
   "source": [
    "last_video = sorted(recent_videos)[-1]  # Pick which video to watch\n",
    "os.system(\"mkdir -p ./src/tmp_render/ && cp {} ./src/tmp_render/last_video.mp4\".format(last_video))\n",
    "HTML('<video src=\"./src/tmp_render/last_video.mp4\" controls autoplay></video>')"
   ]
  },
  {
   "cell_type": "markdown",
   "metadata": {},
   "source": [
    "### Plot metrics for training job\n",
    "We can see the reward metric of the training as it's running, using algorithm metrics that are recorded in CloudWatch metrics.  We can plot this to see the performance of the model over time."
   ]
  },
  {
   "cell_type": "code",
   "execution_count": 18,
   "metadata": {},
   "outputs": [
    {
     "data": {
      "image/png": "[encoded data removed]",
      "text/plain": [
       "<Figure size 864x360 with 1 Axes>"
      ]
     },
     "metadata": {},
     "output_type": "display_data"
    }
   ],
   "source": [
    "%matplotlib inline\n",
    "from sagemaker.analytics import TrainingJobAnalytics\n",
    "\n",
    "df = TrainingJobAnalytics(job_name, ['episode_reward_mean']).dataframe()\n",
    "num_metrics = len(df)\n",
    "if num_metrics == 0:\n",
    "    print(\"No algorithm metrics found in CloudWatch\")\n",
    "else:\n",
    "    plt = df.plot(x='timestamp', y='value', figsize=(12,5), legend=True, style='b-')\n",
    "    plt.set_ylabel('Mean reward per episode')\n",
    "    plt.set_xlabel('Training time (s)')"
   ]
  },
  {
   "cell_type": "markdown",
   "metadata": {},
   "source": [
    "### Monitor training progress\n",
    "You can repeatedly run the visualization cells to get the latest videos or see the latest metrics as the training job proceeds."
   ]
  },
  {
   "cell_type": "markdown",
   "metadata": {},
   "source": [
    "## Ray heterogeneous scaling"
   ]
  },
  {
   "cell_type": "markdown",
   "metadata": {},
   "source": [
    "To scale out RL training, we can increase the number of rollout workers. However, with more rollouts, training can often become the bottleneck. To prevent this, we can use an instance with one or more GPUs for training, and multiple CPU instances for rollouts."
   ]
  },
  {
   "cell_type": "markdown",
   "metadata": {},
   "source": [
    "Since SageMaker supports a single type of instance in a training job, we can achieve the above by spinning two SageMaker jobs and letting them communicate with each other. For the sake of naming, we'll use `Primary cluster` to refer to 1 or more GPU instances, and `Secondary cluster` to refer to the cluster of CPU instances."
   ]
  },
  {
   "cell_type": "markdown",
   "metadata": {},
   "source": [
    "> Please note that local_mode cannot be used for testing this type of scaling."
   ]
  },
  {
   "cell_type": "markdown",
   "metadata": {},
   "source": [
    "Before we configure the SageMaker job, let us first ensure that we run SageMaker in VPC mode. VPC mode will allow the two SageMaker jobs to communicate over network."
   ]
  },
  {
   "cell_type": "markdown",
   "metadata": {},
   "source": [
    "This can be done by supplying subnets and security groups to the job launching scripts. We will use the default VPC configuration for this example."
   ]
  },
  {
   "cell_type": "code",
   "execution_count": 43,
   "metadata": {},
   "outputs": [
    {
     "name": "stdout",
     "output_type": "stream",
     "text": [
      "Using default VPC: vpc-4cb8e62b\n",
      "Using default security group: ['sg-e2c90598']\n",
      "Using default subnets: ['subnet-43657e0a', 'subnet-8e8d6fa5', 'subnet-3d0c5966']\n"
     ]
    }
   ],
   "source": [
    "ec2 = boto3.client('ec2')\n",
    "default_vpc = [vpc['VpcId'] for vpc in ec2.describe_vpcs()['Vpcs'] if vpc[\"IsDefault\"] == True][0]\n",
    "\n",
    "default_security_groups = [group[\"GroupId\"] for group in ec2.describe_security_groups()['SecurityGroups'] \\\n",
    "                   if group[\"GroupName\"] == \"default\" and group[\"VpcId\"] == default_vpc]\n",
    "\n",
    "default_subnets = [subnet[\"SubnetId\"] for subnet in ec2.describe_subnets()[\"Subnets\"] \\\n",
    "                  if subnet[\"VpcId\"] == default_vpc and subnet['DefaultForAz']==True]\n",
    "\n",
    "print(\"Using default VPC:\", default_vpc)\n",
    "print(\"Using default security group:\", default_security_groups)\n",
    "print(\"Using default subnets:\", default_subnets)"
   ]
  },
  {
   "cell_type": "markdown",
   "metadata": {},
   "source": [
    "A SageMaker job running in VPC mode cannot access S3 resources. So, we need to create a VPC S3 endpoint to allow S3 access from SageMaker container. To learn more about the VPC mode, please visit [this link.](https://docs.aws.amazon.com/sagemaker/latest/dg/train-vpc.html)"
   ]
  },
  {
   "cell_type": "code",
   "execution_count": 44,
   "metadata": {},
   "outputs": [
    {
     "name": "stdout",
     "output_type": "stream",
     "text": [
      "Trying to attach S3 endpoints to the following route tables: ['rtb-d479ceb2']\n",
      "S3 endpoint already exists.\n"
     ]
    }
   ],
   "source": [
    "try:\n",
    "    route_tables = [route_table[\"RouteTableId\"] for route_table in ec2.describe_route_tables()['RouteTables']\\\n",
    "                if route_table['VpcId'] == default_vpc]\n",
    "except Exception as e:\n",
    "    if \"UnauthorizedOperation\" in str(e):\n",
    "        display(Markdown(generate_help_for_s3_endpoint_permissions(role)))\n",
    "    else:\n",
    "        display(Markdown(create_s3_endpoint_manually(aws_region, default_vpc)))\n",
    "    raise e\n",
    "\n",
    "print(\"Trying to attach S3 endpoints to the following route tables:\", route_tables)\n",
    "\n",
    "assert len(route_tables) >= 1, \"No route tables were found. Please follow the VPC S3 endpoint creation \"\\\n",
    "                              \"guide by clicking the above link.\"\n",
    "\n",
    "try:\n",
    "    ec2.create_vpc_endpoint(DryRun=False,\n",
    "                           VpcEndpointType=\"Gateway\",\n",
    "                           VpcId=default_vpc,\n",
    "                           ServiceName=\"com.amazonaws.{}.s3\".format(aws_region),\n",
    "                           RouteTableIds=route_tables)\n",
    "    print(\"S3 endpoint created successfully!\")\n",
    "except Exception as e:\n",
    "    if \"RouteAlreadyExists\" in str(e):\n",
    "        print(\"S3 endpoint already exists.\")\n",
    "    elif \"UnauthorizedOperation\" in str(e):\n",
    "        display(Markdown(generate_help_for_s3_endpoint_permissions(role)))\n",
    "        raise e\n",
    "    else:\n",
    "        display(Markdown(create_s3_endpoint_manually(aws_region, default_vpc)))\n",
    "        raise e"
   ]
  },
  {
   "cell_type": "markdown",
   "metadata": {},
   "source": [
    "### Configure instance types"
   ]
  },
  {
   "cell_type": "markdown",
   "metadata": {},
   "source": [
    "Let us configure a cluster with 1 Volta (V100) GPU and 40 CPU cores. We can do this by using 1 ml.p3.2xlarge instance and 2 ml.c5.4xlarge instances, since ml.p3.2xlarge has 8 CPU cores and ml.c5.4xlarge has 16 CPU cores."
   ]
  },
  {
   "cell_type": "code",
   "execution_count": 100,
   "metadata": {
    "scrolled": true
   },
   "outputs": [
    {
     "name": "stdout",
     "output_type": "stream",
     "text": [
      "WARNING! Using --password via the CLI is insecure. Use --password-stdin.\n",
      "WARNING! Your password will be stored unencrypted in /home/ec2-user/.docker/config.json.\n",
      "Configure a credential helper to remove this warning. See\n",
      "https://docs.docker.com/engine/reference/commandline/login/#credentials-store\n",
      "\n",
      "Login Succeeded\n",
      "Logged into ECR\n",
      "Building docker image sagemaker-gym-ray-cpu from Dockerfile\n",
      "$ docker build -t sagemaker-gym-ray-cpu -f Dockerfile . --build-arg CPU_OR_GPU=cpu --build-arg AWS_REGION=ap-northeast-1\n",
      "Sending build context to Docker daemon  2.245MB\n",
      "Step 1/12 : ARG CPU_OR_GPU\n",
      "Step 2/12 : ARG AWS_REGION\n",
      "Step 3/12 : FROM 520713654638.dkr.ecr.${AWS_REGION}.amazonaws.com/sagemaker-rl-tensorflow:ray0.5.3-${CPU_OR_GPU}-py3\n",
      " ---> b522ab9d6e52\n",
      "Step 4/12 : WORKDIR /opt/ml\n",
      " ---> Using cache\n",
      " ---> 2437881950a4\n",
      "Step 5/12 : RUN apt-get update && apt-get install -y       git cmake ffmpeg pkg-config       qtbase5-dev libqt5opengl5-dev libassimp-dev       libpython3.5-dev libtinyxml-dev     && cd /opt     && apt-get clean && rm -rf /var/cache/apt/archives/* /var/lib/apt/lists/*\n",
      " ---> Using cache\n",
      " ---> d89f7b8b7a24\n",
      "Step 6/12 : RUN pip install --upgrade     pip     setuptools\n",
      " ---> Using cache\n",
      " ---> 21136e269a77\n",
      "Step 7/12 : RUN pip install -U gym && pip install gym[atari] && pip install -U ray && ldconfig\n",
      " ---> Using cache\n",
      " ---> 47ae30dfabe4\n",
      "Step 8/12 : RUN pip install setproctitle\n",
      " ---> Using cache\n",
      " ---> 48fdbab5082f\n",
      "Step 9/12 : RUN pip install sagemaker-containers --upgrade\n",
      " ---> Using cache\n",
      " ---> 8a92a211e03c\n",
      "Step 10/12 : ENV PYTHONUNBUFFERED 1\n",
      " ---> Using cache\n",
      " ---> 8ebc7461e799\n",
      "Step 11/12 : RUN python -c \"import gym;import sagemaker_containers.cli.train; import ray; from sagemaker_containers.cli.train import main\"\n",
      " ---> Using cache\n",
      " ---> fd9c336b5bfc\n",
      "Step 12/12 : WORKDIR /opt/ml/code\n",
      " ---> Using cache\n",
      " ---> fc4120fd1025\n",
      "Successfully built fc4120fd1025\n",
      "Successfully tagged sagemaker-gym-ray-cpu:latest\n",
      "Done building docker image sagemaker-gym-ray-cpu\n",
      "ECR repository already exists: sagemaker-gym-ray-cpu\n",
      "WARNING! Using --password via the CLI is insecure. Use --password-stdin.\n",
      "WARNING! Your password will be stored unencrypted in /home/ec2-user/.docker/config.json.\n",
      "Configure a credential helper to remove this warning. See\n",
      "https://docs.docker.com/engine/reference/commandline/login/#credentials-store\n",
      "\n",
      "Login Succeeded\n",
      "Logged into ECR\n",
      "$ docker tag sagemaker-gym-ray-cpu 413953306596.dkr.ecr.ap-northeast-1.amazonaws.com/sagemaker-gym-ray-cpu\n",
      "Pushing docker image to ECR repository 413953306596.dkr.ecr.ap-northeast-1.amazonaws.com/sagemaker-gym-ray-cpu\n",
      "\n",
      "$ docker push 413953306596.dkr.ecr.ap-northeast-1.amazonaws.com/sagemaker-gym-ray-cpu\n",
      "The push refers to repository [413953306596.dkr.ecr.ap-northeast-1.amazonaws.com/sagemaker-gym-ray-cpu]\n",
      "aad1bdff0145: Preparing\n",
      "9a0b76a92f0b: Preparing\n",
      "1bc20fed885f: Preparing\n",
      "5292dd155815: Preparing\n",
      "5063f9738dfd: Preparing\n",
      "59f27b33dc51: Preparing\n",
      "340824deceaf: Preparing\n",
      "79e4b43308b4: Preparing\n",
      "60a4c6264060: Preparing\n",
      "6ee8fe30b55b: Preparing\n",
      "36cb14e2633d: Preparing\n",
      "c9bbcdfaaa98: Preparing\n",
      "09b011f6bf18: Preparing\n",
      "296294040c48: Preparing\n",
      "302af95b9e68: Preparing\n",
      "0ecacb4d5bb1: Preparing\n",
      "d6db7d05e3b2: Preparing\n",
      "8d999119430c: Preparing\n",
      "fe4ed9a0e78a: Preparing\n",
      "3db5746c911a: Preparing\n",
      "819a824caf70: Preparing\n",
      "647265b9d8bc: Preparing\n",
      "41c002c8a6fd: Preparing\n",
      "59f27b33dc51: Waiting\n",
      "340824deceaf: Waiting\n",
      "79e4b43308b4: Waiting\n",
      "60a4c6264060: Waiting\n",
      "6ee8fe30b55b: Waiting\n",
      "36cb14e2633d: Waiting\n",
      "c9bbcdfaaa98: Waiting\n",
      "09b011f6bf18: Waiting\n",
      "296294040c48: Waiting\n",
      "302af95b9e68: Waiting\n",
      "0ecacb4d5bb1: Waiting\n",
      "d6db7d05e3b2: Waiting\n",
      "8d999119430c: Waiting\n",
      "fe4ed9a0e78a: Waiting\n",
      "3db5746c911a: Waiting\n",
      "819a824caf70: Waiting\n",
      "647265b9d8bc: Waiting\n",
      "41c002c8a6fd: Waiting\n",
      "5292dd155815: Layer already exists\n",
      "5063f9738dfd: Layer already exists\n",
      "1bc20fed885f: Layer already exists\n",
      "aad1bdff0145: Layer already exists\n",
      "9a0b76a92f0b: Layer already exists\n",
      "340824deceaf: Layer already exists\n",
      "60a4c6264060: Layer already exists\n",
      "59f27b33dc51: Layer already exists\n",
      "79e4b43308b4: Layer already exists\n",
      "36cb14e2633d: Layer already exists\n",
      "6ee8fe30b55b: Layer already exists\n",
      "09b011f6bf18: Layer already exists\n",
      "c9bbcdfaaa98: Layer already exists\n",
      "296294040c48: Layer already exists\n",
      "302af95b9e68: Layer already exists\n",
      "0ecacb4d5bb1: Layer already exists\n",
      "d6db7d05e3b2: Layer already exists\n",
      "fe4ed9a0e78a: Layer already exists\n",
      "8d999119430c: Layer already exists\n",
      "3db5746c911a: Layer already exists\n",
      "819a824caf70: Layer already exists\n",
      "41c002c8a6fd: Layer already exists\n",
      "647265b9d8bc: Layer already exists\n",
      "latest: digest: sha256:4a7b35f72b25d5697c98cb6aa1faabb56be6ec7f98f563bb8d165f756f4588d8 size: 5148\n",
      "Done pushing 413953306596.dkr.ecr.ap-northeast-1.amazonaws.com/sagemaker-gym-ray-cpu\n",
      "Using CPU ECR image 413953306596.dkr.ecr.ap-northeast-1.amazonaws.com/sagemaker-gym-ray-cpu\n",
      "WARNING! Using --password via the CLI is insecure. Use --password-stdin.\n",
      "WARNING! Your password will be stored unencrypted in /home/ec2-user/.docker/config.json.\n",
      "Configure a credential helper to remove this warning. See\n",
      "https://docs.docker.com/engine/reference/commandline/login/#credentials-store\n",
      "\n",
      "Login Succeeded\n",
      "Logged into ECR\n",
      "Building docker image sagemaker-gym-ray-gpu from Dockerfile\n",
      "$ docker build -t sagemaker-gym-ray-gpu -f Dockerfile . --build-arg CPU_OR_GPU=gpu --build-arg AWS_REGION=ap-northeast-1\n",
      "Sending build context to Docker daemon  2.245MB\n",
      "Step 1/12 : ARG CPU_OR_GPU\n",
      "Step 2/12 : ARG AWS_REGION\n",
      "Step 3/12 : FROM 520713654638.dkr.ecr.${AWS_REGION}.amazonaws.com/sagemaker-rl-tensorflow:ray0.5.3-${CPU_OR_GPU}-py3\n",
      " ---> 8d64d9f985b7\n",
      "Step 4/12 : WORKDIR /opt/ml\n",
      " ---> Using cache\n",
      " ---> 6a7b53433147\n",
      "Step 5/12 : RUN apt-get update && apt-get install -y       git cmake ffmpeg pkg-config       qtbase5-dev libqt5opengl5-dev libassimp-dev       libpython3.5-dev libtinyxml-dev     && cd /opt     && apt-get clean && rm -rf /var/cache/apt/archives/* /var/lib/apt/lists/*\n",
      " ---> Using cache\n",
      " ---> f17c1f005da4\n",
      "Step 6/12 : RUN pip install --upgrade     pip     setuptools\n",
      " ---> Using cache\n",
      " ---> c09301fd9387\n",
      "Step 7/12 : RUN pip install -U gym && pip install gym[atari] && pip install -U ray && ldconfig\n",
      " ---> Using cache\n",
      " ---> cc5beaaebe79\n",
      "Step 8/12 : RUN pip install setproctitle\n",
      " ---> Using cache\n",
      " ---> 6a248bcd75cb\n",
      "Step 9/12 : RUN pip install sagemaker-containers --upgrade\n",
      " ---> Using cache\n",
      " ---> a8732aaeed93\n",
      "Step 10/12 : ENV PYTHONUNBUFFERED 1\n",
      " ---> Using cache\n",
      " ---> 3368f3ce3c3e\n",
      "Step 11/12 : RUN python -c \"import gym;import sagemaker_containers.cli.train; import ray; from sagemaker_containers.cli.train import main\"\n",
      " ---> Using cache\n",
      " ---> be6f9c97b233\n",
      "Step 12/12 : WORKDIR /opt/ml/code\n",
      " ---> Using cache\n",
      " ---> 91e3b9beeaf4\n",
      "Successfully built 91e3b9beeaf4\n",
      "Successfully tagged sagemaker-gym-ray-gpu:latest\n",
      "Done building docker image sagemaker-gym-ray-gpu\n",
      "ECR repository already exists: sagemaker-gym-ray-gpu\n",
      "WARNING! Using --password via the CLI is insecure. Use --password-stdin.\n",
      "WARNING! Your password will be stored unencrypted in /home/ec2-user/.docker/config.json.\n",
      "Configure a credential helper to remove this warning. See\n",
      "https://docs.docker.com/engine/reference/commandline/login/#credentials-store\n",
      "\n",
      "Login Succeeded\n",
      "Logged into ECR\n",
      "$ docker tag sagemaker-gym-ray-gpu 413953306596.dkr.ecr.ap-northeast-1.amazonaws.com/sagemaker-gym-ray-gpu\n",
      "Pushing docker image to ECR repository 413953306596.dkr.ecr.ap-northeast-1.amazonaws.com/sagemaker-gym-ray-gpu\n",
      "\n",
      "$ docker push 413953306596.dkr.ecr.ap-northeast-1.amazonaws.com/sagemaker-gym-ray-gpu\n",
      "The push refers to repository [413953306596.dkr.ecr.ap-northeast-1.amazonaws.com/sagemaker-gym-ray-gpu]\n",
      "f79025d6867b: Preparing\n",
      "bec283717b6b: Preparing\n",
      "ffc7afa703b1: Preparing\n",
      "b62454a7b8ae: Preparing\n",
      "447fa1b97b14: Preparing\n",
      "2758a59654b2: Preparing\n",
      "58814c60871c: Preparing\n",
      "2acf39a8b48b: Preparing\n",
      "034dc2c07b9e: Preparing\n",
      "d56186dc2f5e: Preparing\n",
      "36cb14e2633d: Preparing\n",
      "5a9c8dc260f7: Preparing\n",
      "8aac526fdc01: Preparing\n",
      "b57fe89d7ca1: Preparing\n",
      "302af95b9e68: Preparing\n",
      "1b7c37db47f8: Preparing\n",
      "4ebe216077d5: Preparing\n",
      "88812efafaa2: Preparing\n",
      "a26889aca8a4: Preparing\n",
      "a0776517737a: Preparing\n",
      "621c51016399: Preparing\n",
      "145eb658aaf0: Preparing\n",
      "e6c3a9c7c79e: Preparing\n",
      "f1dfa8049aa6: Preparing\n",
      "79109c0f8a0b: Preparing\n",
      "33db8ccd260b: Preparing\n",
      "b8c891f0ffec: Preparing\n",
      "2758a59654b2: Waiting\n",
      "58814c60871c: Waiting\n",
      "2acf39a8b48b: Waiting\n",
      "034dc2c07b9e: Waiting\n",
      "d56186dc2f5e: Waiting\n",
      "36cb14e2633d: Waiting\n",
      "5a9c8dc260f7: Waiting\n",
      "8aac526fdc01: Waiting\n",
      "b57fe89d7ca1: Waiting\n",
      "302af95b9e68: Waiting\n",
      "1b7c37db47f8: Waiting\n",
      "4ebe216077d5: Waiting\n",
      "88812efafaa2: Waiting\n",
      "a26889aca8a4: Waiting\n",
      "a0776517737a: Waiting\n",
      "621c51016399: Waiting\n",
      "145eb658aaf0: Waiting\n",
      "e6c3a9c7c79e: Waiting\n",
      "f1dfa8049aa6: Waiting\n",
      "79109c0f8a0b: Waiting\n",
      "33db8ccd260b: Waiting\n",
      "b8c891f0ffec: Waiting\n",
      "ffc7afa703b1: Layer already exists\n",
      "447fa1b97b14: Layer already exists\n",
      "b62454a7b8ae: Layer already exists\n",
      "f79025d6867b: Layer already exists\n",
      "bec283717b6b: Layer already exists\n",
      "034dc2c07b9e: Layer already exists\n",
      "d56186dc2f5e: Layer already exists\n",
      "58814c60871c: Layer already exists\n",
      "2758a59654b2: Layer already exists\n",
      "2acf39a8b48b: Layer already exists\n"
     ]
    },
    {
     "name": "stdout",
     "output_type": "stream",
     "text": [
      "36cb14e2633d: Layer already exists\n",
      "5a9c8dc260f7: Layer already exists\n",
      "8aac526fdc01: Layer already exists\n",
      "302af95b9e68: Layer already exists\n",
      "b57fe89d7ca1: Layer already exists\n",
      "4ebe216077d5: Layer already exists\n",
      "a26889aca8a4: Layer already exists\n",
      "a0776517737a: Layer already exists\n",
      "1b7c37db47f8: Layer already exists\n",
      "88812efafaa2: Layer already exists\n",
      "621c51016399: Layer already exists\n",
      "145eb658aaf0: Layer already exists\n",
      "e6c3a9c7c79e: Layer already exists\n",
      "79109c0f8a0b: Layer already exists\n",
      "f1dfa8049aa6: Layer already exists\n",
      "33db8ccd260b: Layer already exists\n",
      "b8c891f0ffec: Layer already exists\n",
      "latest: digest: sha256:1de1b6f93dd36a4f611d24449c7cb1dea1948e8532ed8b071bd7d012e91e2546 size: 5987\n",
      "Done pushing 413953306596.dkr.ecr.ap-northeast-1.amazonaws.com/sagemaker-gym-ray-gpu\n",
      "Using GPU ECR image 413953306596.dkr.ecr.ap-northeast-1.amazonaws.com/sagemaker-gym-ray-gpu\n",
      "CPU times: user 219 ms, sys: 83 ms, total: 302 ms\n",
      "Wall time: 4.06 s\n"
     ]
    }
   ],
   "source": [
    "%%time\n",
    "\n",
    "# Build CPU image\n",
    "cpu_repository_short_name = \"sagemaker-gym-ray-%s\" % \"cpu\"\n",
    "docker_build_args = {\n",
    "    'CPU_OR_GPU': \"cpu\", \n",
    "    'AWS_REGION': boto3.Session().region_name,\n",
    "}\n",
    "cpu_image_name = build_and_push_docker_image(cpu_repository_short_name, build_args=docker_build_args)\n",
    "print(\"Using CPU ECR image %s\" % cpu_image_name)\n",
    "\n",
    "# Build GPU image\n",
    "gpu_repository_short_name = \"sagemaker-gym-ray-%s\" % \"gpu\"\n",
    "docker_build_args = {\n",
    "    'CPU_OR_GPU': \"gpu\", \n",
    "    'AWS_REGION': boto3.Session().region_name,\n",
    "}\n",
    "gpu_image_name = build_and_push_docker_image(gpu_repository_short_name, build_args=docker_build_args)\n",
    "print(\"Using GPU ECR image %s\" % gpu_image_name)"
   ]
  },
  {
   "cell_type": "code",
   "execution_count": 114,
   "metadata": {},
   "outputs": [],
   "source": [
    "primary_cluster_instance_type = \"ml.p3.2xlarge\"\n",
    "primary_cluster_instance_type = \"ml.p3.8xlarge\"\n",
    "primary_cluster_instance_type = \"ml.p3.16xlarge\"\n",
    "primary_cluster_instance_count = 1\n",
    "\n",
    "secondary_cluster_instance_type = \"ml.c5.4xlarge\"\n",
    "secondary_cluster_instance_type = \"ml.m4.16xlarge\"\n",
    "secondary_cluster_instance_count = 2\n",
    "\n",
    "total_cpus = 40 - 1 # Leave one for ray scheduler\n",
    "total_cpus = 60*(secondary_cluster_instance_count+1) - 1\n",
    "total_gpus = 1\n",
    "total_gpus = 2"
   ]
  },
  {
   "cell_type": "markdown",
   "metadata": {},
   "source": [
    "Next, we choose the gym agent that we want to train. For heterogeneous training, we also pass some additional parameters to the training job that aid in synchronization across instances:\n",
    "- s3_bucket, s3_prefix: Used for storing metadata like master IP address\n",
    "- rl_cluster_type: \"primary\" or \"secondary\"\n",
    "- aws_region: This is required for making connection to S3 in VPC mode\n",
    "- rl_num_instances_secondary: Number of nodes in secondary cluster\n",
    "- subnets, security_group_ids: Required by VPC mode"
   ]
  },
  {
   "cell_type": "code",
   "execution_count": 121,
   "metadata": {},
   "outputs": [],
   "source": [
    "job_name_prefix = 'rl-gym-distributed-'+ gym_problem\n",
    "\n",
    "s3_output_path = 's3://{}/'.format(s3_bucket) # SDK appends the job name and output folder\n",
    "\n",
    "# We explicitly need to specify these params so that the two jobs can synchronize using the metadata stored here\n",
    "s3_bucket = sage_session.default_bucket()\n",
    "s3_prefix = \"dist-ray-%s-1GPU-40CPUs\" % (gym_problem)\n",
    "\n",
    "# Make sure that the prefix is empty\n",
    "!aws s3 rm --recursive s3://{s3_bucket}/{s3_prefix}    "
   ]
  },
  {
   "cell_type": "code",
   "execution_count": 122,
   "metadata": {},
   "outputs": [],
   "source": [
    "gym_problem = 'breakout'"
   ]
  },
  {
   "cell_type": "markdown",
   "metadata": {},
   "source": [
    "### Launch primary cluster (1 GPU training instance)"
   ]
  },
  {
   "cell_type": "code",
   "execution_count": 123,
   "metadata": {},
   "outputs": [
    {
     "name": "stderr",
     "output_type": "stream",
     "text": [
      "INFO:sagemaker:Creating training-job with name: rl-gym-distributed-breakout-primary-2019-04-14-16-46-52-521\n"
     ]
    },
    {
     "name": "stdout",
     "output_type": "stream",
     "text": [
      "Primary Training job: rl-gym-distributed-breakout-primary-2019-04-14-16-46-52-521\n"
     ]
    }
   ],
   "source": [
    "metric_definitions = RLEstimator.default_metric_definitions(RLToolkit.RAY)\n",
    "\n",
    "primary_cluster_estimator = RLEstimator(entry_point=\"train-%s.py\" % gym_problem,\n",
    "                            source_dir='src',\n",
    "                            dependencies=[\"common/sagemaker_rl\"],\n",
    "                            image_name=gpu_image_name,\n",
    "                            role=role,\n",
    "                            train_instance_type=primary_cluster_instance_type,\n",
    "                            train_instance_count=primary_cluster_instance_count,\n",
    "                            output_path=s3_output_path,\n",
    "                            base_job_name=job_name_prefix + \"-primary\",\n",
    "                            metric_definitions=metric_definitions,\n",
    "#                             train_max_run=int(3600 * .5), # Maximum runtime in seconds\n",
    "                            hyperparameters={\n",
    "                                \"s3_prefix\": s3_prefix, # Important for syncing\n",
    "                                \"s3_bucket\": s3_bucket, # Important for syncing\n",
    "                                \"aws_region\": boto3.Session().region_name, # Important for S3 connection\n",
    "                                \"rl_cluster_type\": \"primary\", # Important for syncing\n",
    "                                \"rl_num_instances_secondary\": secondary_cluster_instance_count, # Important for syncing\n",
    "                                \"rl.training.config.num_workers\": total_cpus,\n",
    "#                                 \"rl.training.config.train_batch_size\": 20000,\n",
    "                                \"rl.training.config.num_gpus\": total_gpus,\n",
    "                                \n",
    "#                                 \"rl.training.config.sample_batch_size\": 50,\n",
    "#                                 \"rl.training.config.train_batch_size\": 500, \n",
    "#                                 \"rl.training.config.broadcast_interval\": 5,\n",
    "#                                 \"rl.training.config.max_sample_requests_in_flight_per_worker\": 1,\n",
    "#                                 \"rl.training.config.num_data_loader_buffers\": 4,\n",
    "                            },\n",
    "                            subnets=default_subnets, # Required for VPC mode\n",
    "                            security_group_ids=default_security_groups # Required for VPC mode\n",
    "                        )\n",
    "\n",
    "primary_cluster_estimator.fit(wait=False)\n",
    "primary_job_name = primary_cluster_estimator.latest_training_job.job_name\n",
    "print(\"Primary Training job: %s\" % primary_job_name)"
   ]
  },
  {
   "cell_type": "markdown",
   "metadata": {},
   "source": [
    "### Launch secondary cluster (2 CPU instances)"
   ]
  },
  {
   "cell_type": "code",
   "execution_count": 124,
   "metadata": {},
   "outputs": [
    {
     "name": "stderr",
     "output_type": "stream",
     "text": [
      "INFO:sagemaker:Creating training-job with name: rl-gym-distributed-breakout-secondary-2019-04-14-16-46-54-552\n"
     ]
    },
    {
     "name": "stdout",
     "output_type": "stream",
     "text": [
      "Secondary Training job: rl-gym-distributed-breakout-secondary-2019-04-14-16-46-54-552\n"
     ]
    }
   ],
   "source": [
    "secondary_cluster_estimator = RLEstimator(entry_point=\"train-%s.py\" % gym_problem,\n",
    "                            source_dir='src',\n",
    "                            dependencies=[\"common/sagemaker_rl\"],\n",
    "                            image_name=cpu_image_name,\n",
    "                            role=role,\n",
    "                            train_instance_type=secondary_cluster_instance_type,\n",
    "                            train_instance_count=secondary_cluster_instance_count,\n",
    "                            output_path=s3_output_path,\n",
    "                            base_job_name=job_name_prefix + \"-secondary\",\n",
    "                            metric_definitions=metric_definitions,\n",
    "#                             train_max_run=3600, # Maximum runtime in seconds\n",
    "                            hyperparameters={\n",
    "                                \"s3_prefix\": s3_prefix, # Important for syncing\n",
    "                                \"s3_bucket\": s3_bucket, # Important for syncing\n",
    "                                \"aws_region\": boto3.Session().region_name, # Important for S3 connection\n",
    "                                \"rl_cluster_type\": \"secondary\", # Important for syncing\n",
    "                            },\n",
    "                            subnets=default_subnets, # Required for VPC mode\n",
    "                            security_group_ids=default_security_groups # Required for VPC mode\n",
    "                        )\n",
    "\n",
    "secondary_cluster_estimator.fit(wait=False)\n",
    "secondary_job_name = secondary_cluster_estimator.latest_training_job.job_name\n",
    "print(\"Secondary Training job: %s\" % secondary_job_name)"
   ]
  },
  {
   "cell_type": "markdown",
   "metadata": {},
   "source": [
    "### Visualization"
   ]
  },
  {
   "cell_type": "code",
   "execution_count": 130,
   "metadata": {},
   "outputs": [
    {
     "name": "stdout",
     "output_type": "stream",
     "text": [
      "Job name: rl-gym-distributed-breakout-primary-2019-04-14-16-46-52-521\n",
      "S3 job path: s3://sagemaker-ap-northeast-1-413953306596/rl-gym-distributed-breakout-primary-2019-04-14-16-46-52-521\n",
      "Output.tar.gz location: s3://sagemaker-ap-northeast-1-413953306596/rl-gym-distributed-breakout-primary-2019-04-14-16-46-52-521/output/output.tar.gz\n",
      "Intermediate folder path: s3://sagemaker-ap-northeast-1-413953306596/rl-gym-distributed-breakout-primary-2019-04-14-16-46-52-521/output/intermediate/\n",
      "Create local folder /tmp/rl-gym-distributed-breakout-primary-2019-04-14-16-46-52-521\n"
     ]
    }
   ],
   "source": [
    "print(\"Job name: {}\".format(primary_job_name))\n",
    "\n",
    "s3_url = \"s3://{}/{}\".format(s3_bucket,primary_job_name)\n",
    "\n",
    "if local_mode:\n",
    "    output_tar_key = \"{}/output.tar.gz\".format(primary_job_name)\n",
    "else:\n",
    "    output_tar_key = \"{}/output/output.tar.gz\".format(primary_job_name)\n",
    "\n",
    "intermediate_folder_key = \"{}/output/intermediate/\".format(primary_job_name)\n",
    "output_url = \"s3://{}/{}\".format(s3_bucket, output_tar_key)\n",
    "intermediate_url = \"s3://{}/{}\".format(s3_bucket, intermediate_folder_key)\n",
    "\n",
    "print(\"S3 job path: {}\".format(s3_url))\n",
    "print(\"Output.tar.gz location: {}\".format(output_url))\n",
    "print(\"Intermediate folder path: {}\".format(intermediate_url))\n",
    "    \n",
    "tmp_dir = \"/tmp/{}\".format(primary_job_name)\n",
    "os.system(\"mkdir {}\".format(tmp_dir))\n",
    "print(\"Create local folder {}\".format(tmp_dir))"
   ]
  },
  {
   "cell_type": "markdown",
   "metadata": {},
   "source": [
    "### Fetch videos of training rollouts\n",
    "Videos of certain rollouts get written to S3 during training.  Here we fetch the last 10 videos from S3, and render the last one."
   ]
  },
  {
   "cell_type": "code",
   "execution_count": 131,
   "metadata": {},
   "outputs": [
    {
     "name": "stdout",
     "output_type": "stream",
     "text": [
      "Waiting for s3://sagemaker-ap-northeast-1-413953306596/rl-gym-distributed-breakout-primary-2019-04-14-16-46-52-521/output/intermediate/...\n",
      "Only downloading 10 of 567 files\n",
      "Downloading rl-gym-distributed-breakout-primary-2019-04-14-16-46-52-521/output/intermediate/training/IMPALA_BreakoutDeterministic-v4_0_2019-04-14_16-51-34utgfe7nf/openaigym.video.0.434.video000512.mp4\n",
      "Downloading rl-gym-distributed-breakout-primary-2019-04-14-16-46-52-521/output/intermediate/training/IMPALA_BreakoutDeterministic-v4_0_2019-04-14_16-51-34utgfe7nf/openaigym.video.0.435.video000000.mp4\n",
      "Downloading rl-gym-distributed-breakout-primary-2019-04-14-16-46-52-521/output/intermediate/training/IMPALA_BreakoutDeterministic-v4_0_2019-04-14_16-51-34utgfe7nf/openaigym.video.0.435.video000001.mp4\n",
      "Downloading rl-gym-distributed-breakout-primary-2019-04-14-16-46-52-521/output/intermediate/training/IMPALA_BreakoutDeterministic-v4_0_2019-04-14_16-51-34utgfe7nf/openaigym.video.0.435.video000008.mp4\n",
      "Downloading rl-gym-distributed-breakout-primary-2019-04-14-16-46-52-521/output/intermediate/training/IMPALA_BreakoutDeterministic-v4_0_2019-04-14_16-51-34utgfe7nf/openaigym.video.0.435.video000027.mp4\n",
      "Downloading rl-gym-distributed-breakout-primary-2019-04-14-16-46-52-521/output/intermediate/training/IMPALA_BreakoutDeterministic-v4_0_2019-04-14_16-51-34utgfe7nf/openaigym.video.0.435.video000064.mp4\n",
      "Downloading rl-gym-distributed-breakout-primary-2019-04-14-16-46-52-521/output/intermediate/training/IMPALA_BreakoutDeterministic-v4_0_2019-04-14_16-51-34utgfe7nf/openaigym.video.0.435.video000125.mp4\n",
      "Downloading rl-gym-distributed-breakout-primary-2019-04-14-16-46-52-521/output/intermediate/training/IMPALA_BreakoutDeterministic-v4_0_2019-04-14_16-51-34utgfe7nf/openaigym.video.0.435.video000216.mp4\n",
      "Downloading rl-gym-distributed-breakout-primary-2019-04-14-16-46-52-521/output/intermediate/training/IMPALA_BreakoutDeterministic-v4_0_2019-04-14_16-51-34utgfe7nf/openaigym.video.0.435.video000343.mp4\n",
      "Downloading rl-gym-distributed-breakout-primary-2019-04-14-16-46-52-521/output/intermediate/training/IMPALA_BreakoutDeterministic-v4_0_2019-04-14_16-51-34utgfe7nf/openaigym.video.0.435.video000512.mp4\n"
     ]
    }
   ],
   "source": [
    "recent_videos = wait_for_s3_object(s3_bucket, intermediate_folder_key, tmp_dir, \n",
    "                                fetch_only=(lambda obj: obj.key.endswith(\".mp4\") and obj.size>0), limit=10)"
   ]
  },
  {
   "cell_type": "code",
   "execution_count": 132,
   "metadata": {},
   "outputs": [
    {
     "data": {
      "text/html": [
       "<video src=\"./src/tmp_render/last_video.mp4\" controls autoplay></video>"
      ],
      "text/plain": [
       "<IPython.core.display.HTML object>"
      ]
     },
     "execution_count": 132,
     "metadata": {},
     "output_type": "execute_result"
    }
   ],
   "source": [
    "last_video = sorted(recent_videos)[-1]  # Pick which video to watch\n",
    "os.system(\"mkdir -p ./src/tmp_render/ && cp {} ./src/tmp_render/last_video.mp4\".format(last_video))\n",
    "HTML('<video src=\"./src/tmp_render/last_video.mp4\" controls autoplay></video>')"
   ]
  },
  {
   "cell_type": "markdown",
   "metadata": {},
   "source": [
    "### Plot metrics for training job\n",
    "We can see the reward metric of the training as it's running, using algorithm metrics that are recorded in CloudWatch metrics.  We can plot this to see the performance of the model over time."
   ]
  },
  {
   "cell_type": "code",
   "execution_count": 129,
   "metadata": {},
   "outputs": [
    {
     "data": {
      "image/png": "[encoded data removed]",
      "text/plain": [
       "<Figure size 864x360 with 1 Axes>"
      ]
     },
     "metadata": {},
     "output_type": "display_data"
    }
   ],
   "source": [
    "%matplotlib inline\n",
    "from sagemaker.analytics import TrainingJobAnalytics\n",
    "\n",
    "df = TrainingJobAnalytics(primary_job_name, ['episode_reward_mean']).dataframe()\n",
    "num_metrics = len(df)\n",
    "if num_metrics == 0:\n",
    "    print(\"No algorithm metrics found in CloudWatch\")\n",
    "else:\n",
    "    plt = df.plot(x='timestamp', y='value', figsize=(12,5), legend=True, style='b-')\n",
    "    plt.set_ylabel('Mean reward per episode')\n",
    "    plt.set_xlabel('Training time (s)')"
   ]
  },
  {
   "cell_type": "markdown",
   "metadata": {},
   "source": [
    "And that's it! You can repeatedly run the visualization cells to get the latest videos or see the latest metrics as the training job proceeds."
   ]
  }
 ],
 "metadata": {
  "anaconda-cloud": {},
  "kernelspec": {
   "display_name": "conda_python3",
   "language": "python",
   "name": "conda_python3"
  },
  "language_info": {
   "codemirror_mode": {
    "name": "ipython",
    "version": 3
   },
   "file_extension": ".py",
   "mimetype": "text/x-python",
   "name": "python",
   "nbconvert_exporter": "python",
   "pygments_lexer": "ipython3",
   "version": "3.6.5"
  },
  "notice": "Copyright 2018 Amazon.com, Inc. or its affiliates. All Rights Reserved. Licensed under the Apache License, Version 2.0 (the \"License\"). You may not use this file except in compliance with the License. A copy of the License is located at http://aws.amazon.com/apache2.0/ or in the \"license\" file accompanying this file. This file is distributed on an \"AS IS\" BASIS, WITHOUT WARRANTIES OR CONDITIONS OF ANY KIND, either express or implied. See the License for the specific language governing permissions and limitations under the License."
 },
 "nbformat": 4,
 "nbformat_minor": 2
}
