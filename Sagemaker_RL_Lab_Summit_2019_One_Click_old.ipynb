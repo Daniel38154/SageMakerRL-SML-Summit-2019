{
 "cells": [
  {
   "cell_type": "markdown",
   "metadata": {
    "colab_type": "text",
    "id": "0Zv-79trOkkx"
   },
   "source": [
    "# Sagemaker Sydney Summit 2019 Reinforcement Learning Lab"
   ]
  },
  {
   "cell_type": "markdown",
   "metadata": {},
   "source": [
    "Authors: Paul Conyngham & William Xu | StarAi Project - Machine Learning Engineers - | Email : contact@starai.com"
   ]
  },
  {
   "cell_type": "markdown",
   "metadata": {},
   "source": [
    "---"
   ]
  },
  {
   "cell_type": "markdown",
   "metadata": {},
   "source": [
    "![alt text](https://cdn-images-1.medium.com/max/1200/1*XyIpmXXAjbXerDzmGQL1yA.gif)"
   ]
  },
  {
   "cell_type": "markdown",
   "metadata": {},
   "source": [
    "."
   ]
  },
  {
   "cell_type": "markdown",
   "metadata": {},
   "source": [
    "Hi! and welcome to the sage maker Reinforcement Learning lab for AWS Summit 2019. "
   ]
  },
  {
   "cell_type": "markdown",
   "metadata": {},
   "source": [
    "This workshop gives you an introduction to state of the art Reinforcement Learning & shows you how, using AWS, you can parallelise the training of your reinforcement learning algorithms to get insanely fast turn around times & results for your reinforcement learning experiments."
   ]
  },
  {
   "cell_type": "markdown",
   "metadata": {},
   "source": [
    "Reinforcement Learning has been directly responsible for some of the biggest breakthoughs in the field of modern machine learning. \n",
    "\n"
   ]
  },
  {
   "cell_type": "markdown",
   "metadata": {},
   "source": [
    "Some of the events you may have heard about in the media include [AlphaGo](https://deepmind.com/research/alphago/), [OpenAI Five](https://openai.com/blog/openai-five/) &[ Deepmind's AlphaStar](https://deepmind.com/blog/alphastar-mastering-real-time-strategy-game-starcraft-ii/) - all powered by Reinforcement Learning."
   ]
  },
  {
   "cell_type": "markdown",
   "metadata": {},
   "source": [
    "Outside of games however, we are beginning to see more use cases of Reinforcement Learning in the wild. \n",
    "\n",
    "Including [web stores product recommendations](https://arxiv.org/pdf/1805.02343.pdf),  [  news recommendation](https://towardsdatascience.com/deep-reinforcement-learning-for-news-recommendation-part-1-architecture-5741b1a6ed56), [in the finance industry](https://www.forbes.com/sites/quora/2018/07/25/what-are-the-latest-works-on-reinforcement-learning-in-the-financial-field/#3c35b15b44df) , [Automated Architecture search for Machine Learning using RL](https://ai.googleblog.com/2017/05/using-machine-learning-to-explore.html) ,[End to End  Machine Learning for Self Driving Cars](https://wayve.ai/), and last and most excitingly the field of Robotics where [Deep Reinforcement Learning is exploding!](https://www.therobotreport.com/reinforcement-learning-industrial-robotics/)"
   ]
  },
  {
   "cell_type": "markdown",
   "metadata": {},
   "source": [
    "But first, an intro to Jupyter notebooks! "
   ]
  },
  {
   "cell_type": "markdown",
   "metadata": {},
   "source": [
    "---"
   ]
  },
  {
   "cell_type": "markdown",
   "metadata": {
    "colab_type": "text",
    "id": "gbqo0hk7Ornl"
   },
   "source": [
    "\n",
    "**For those new to Jupyter Notebooks** - the interface you are using right now - there are two types of \"cell blocks\" **text** (like the one you are reading) and **code blocks**.\n",
    "\n",
    "To run code Cell blocks :\n",
    "\n",
    "1.  First select the code cell by simply left clicking on it below, when you select it - it should get a green border as follows:\n",
    "\n",
    "![alt text](https://i.ibb.co/rt9NdXL/Screen-Shot-2019-03-25-at-2-02-08-pm.png)\n",
    "\n",
    "2.   Once the cell is selected, click the \"run\" button at the top of the notebook, which looks like this:\n",
    "\n",
    "![alt text](https://i.ibb.co/fCwfvBk/Screen-Shot-2019-03-25-at-2-05-33-pm.png)\n",
    "\n",
    "Hitting \"shift-enter\"together is also a shortcut for the Run command/button above\n",
    "\n",
    "\n",
    "---\n",
    "\n"
   ]
  },
  {
   "cell_type": "markdown",
   "metadata": {},
   "source": [
    "We want to get started with training as soon as possible, select the code cell directly below where is says \"run the code cell below\" and run it. If you need help follow step 1 & 2 above to do this\n",
    "\n",
    "\n",
    "This will start our reinforcement learning model's training process. We will spend the rest of this lab explaining what is going on here line by line - with an amazing result to follow!"
   ]
  },
  {
   "cell_type": "markdown",
   "metadata": {},
   "source": [
    "**run the code cell below:**\n",
    "\n",
    "Once the cell block has run, continue scrolling & reading to continue the lesson"
   ]
  },
  {
   "cell_type": "code",
   "execution_count": null,
   "metadata": {},
   "outputs": [],
   "source": [
    "# ONE CLICK REINFORCEMENT LEARNING!\n",
    "\n",
    "# RUN ME BY FIRST SELECTING THIS BLOCK, AND CLICKING \"RUN\" ABOVE!\n",
    "\"\"\"\n",
    "### Import relevant libraries\n",
    "\n",
    "First we imported the relevant Python libraries, you can re do this\n",
    "\"\"\"\n",
    "import sagemaker\n",
    "import boto3\n",
    "import sys\n",
    "import os\n",
    "import glob\n",
    "import re\n",
    "import subprocess\n",
    "from IPython.display import HTML, Markdown\n",
    "import time\n",
    "from time import gmtime, strftime\n",
    "sys.path.append(\"common\")\n",
    "from misc import get_execution_role, wait_for_s3_object\n",
    "from docker_utils import build_and_push_docker_image\n",
    "from sagemaker.rl import RLEstimator, RLToolkit, RLFramework\n",
    "from markdown_helper import generate_help_for_s3_endpoint_permissions, create_s3_endpoint_manually\n",
    "\n",
    "gym_problem = 'breakout'\n",
    "\n",
    "\n",
    "\n",
    "\"\"\"\n",
    "### Setup S3 bucket\n",
    "\n",
    "Set up the linkage and authentication to the S3 bucket. \n",
    "S3 Buckets are a form of data storage available on AWS. \n",
    "Our bucket will be used for checkpointing and the metadata. \n",
    "\"\"\"\n",
    "sage_session = sagemaker.session.Session()\n",
    "s3_bucket = sage_session.default_bucket()  \n",
    "s3_output_path = 's3://{}/'.format(s3_bucket)\n",
    "print(\"S3 bucket path: {}\".format(s3_output_path))\n",
    "\n",
    "\n",
    "\n",
    "\"\"\"\n",
    "### Define Variables \n",
    "\n",
    "We define variables such as the job prefix for the training jobs \n",
    "and the image path for the container (only when this is BYOC).\n",
    "\"\"\"\n",
    "job_name_prefix = 'rl-gym-summit'\n",
    "aws_region = boto3.Session().region_name\n",
    "\n",
    "instance_type = \"ml.p3.8xlarge\"\n",
    "train_instance_count = 1\n",
    "\n",
    "\n",
    "\n",
    "\"\"\"\n",
    "### Create an IAM role\n",
    "\n",
    "Either get the execution role when running from a SageMaker notebook instance \n",
    "`role = sagemaker.get_execution_role()` or, when running from local notebook instance, \n",
    "use utils method `role = get_execution_role()` to create an execution role.\n",
    "\"\"\"\n",
    "try:\n",
    "    role = sagemaker.get_execution_role()\n",
    "except:\n",
    "    role = get_execution_role()\n",
    "\n",
    "print(\"Using IAM role arn: {}\".format(role))\n",
    "\n",
    "\n",
    "\n",
    "\n",
    "\"\"\"\n",
    "### Build docker container for SageMaker Training job.\n",
    "\n",
    "The commented code below will build a container, \n",
    "however it takes some time so we've prebuilt the container for this workshop\n",
    "\n",
    "    cpu_or_gpu = 'gpu' if instance_type.startswith('ml.p') else 'cpu'\n",
    "    repository_short_name = \"sagemaker-gym-ray-%s\" % cpu_or_gpu\n",
    "    docker_build_args = {\n",
    "        'CPU_OR_GPU': cpu_or_gpu, \n",
    "        'AWS_REGION': boto3.Session().region_name,\n",
    "    }\n",
    "    custom_image_name = build_and_push_docker_image(repository_short_name, build_args=docker_build_args)\n",
    "    print(\"Using ECR image %s\" % custom_image_name)    \n",
    "    print(\"the repo name is \", repository_short_name)\n",
    "\"\"\"\n",
    "custom_image_name = \"413953306596.dkr.ecr.us-east-1.amazonaws.com/sagemaker-gym-ray-gpu\"\n",
    "\n",
    "\n",
    "\n",
    "\n",
    "\"\"\"\n",
    "### Start a training job\n",
    "This will run a training job on a a separate VM instance (ml.p3.8xlarge). \n",
    "You can view the status of this training job from the Amazon Sagemaker menu\n",
    "\n",
    "Amazon Sagemaker --> Training --> Training Jobs\n",
    "\"\"\"\n",
    "metric_definitions = RLEstimator.default_metric_definitions(RLToolkit.RAY)\n",
    "    \n",
    "estimator = RLEstimator(entry_point=\"train-%s.py\" % gym_problem,\n",
    "                        source_dir='src',\n",
    "                        dependencies=[\"common/sagemaker_rl\"],\n",
    "                        image_name=custom_image_name,\n",
    "                        role=role,\n",
    "                        train_instance_type=instance_type,\n",
    "                        train_instance_count=train_instance_count,\n",
    "                        output_path=s3_output_path,\n",
    "                        base_job_name=job_name_prefix,\n",
    "                        metric_definitions=metric_definitions,\n",
    "                        hyperparameters={\n",
    "                            # ml.p3.8xlarge has 32 cores. We have to leave 1 core for ray scheduler.\n",
    "                            \"rl.training.config.num_workers\": 32 * train_instance_count - 1,\n",
    "                            \"rl.training.config.num_gpus\": 2\n",
    "                        }\n",
    "                    )\n",
    "\n",
    "estimator.fit(wait=False)\n",
    "job_name = estimator.latest_training_job.job_name\n",
    "print(\"Training job: %s\" % job_name)"
   ]
  },
  {
   "cell_type": "markdown",
   "metadata": {},
   "source": [
    "### View Training Job\n",
    "The above cell will run a training job on a a separate VM instance (ml.p3.8xlarge). You can view the status of this training job from the Amazon Sagemaker menu. It will take a few minutes for the instance to be created before training starts. \n",
    "\n",
    "If you like to see the above training job please follow this link\n",
    "\n",
    "<a href=\"https://console.aws.amazon.com/sagemaker/home?region=us-east-1#/jobs\" target=\"_blank\">https://console.aws.amazon.com/sagemaker/home?region=us-east-1#/jobs</a>"
   ]
  },
  {
   "cell_type": "markdown",
   "metadata": {},
   "source": [
    "# Explanation!"
   ]
  },
  {
   "cell_type": "markdown",
   "metadata": {},
   "source": [
    "Today's current enthusiam around RL started only 4 years ago, with the release of [Deepmind DQN algorithm in the scientific journal nature in 2015.](https://www.nature.com/articles/nature14236)"
   ]
  },
  {
   "cell_type": "markdown",
   "metadata": {},
   "source": [
    "For those who may not be aware, in the DQN paper, Deepmind took several classic atari 2600 games and learnt to play them at human level with just raw pixels values from the screen. \n",
    "\n",
    "When learning to play games, you & I as humans learnt to play this exact same way by just observing the raw images that are being produced by the screen!"
   ]
  },
  {
   "cell_type": "markdown",
   "metadata": {},
   "source": [
    "But what really set DQN apart from previous work, was that in some instances, the DQN algorithm ***went beyond human level!***"
   ]
  },
  {
   "cell_type": "markdown",
   "metadata": {},
   "source": [
    "Some of you may have seen this before, but in what has now become a famous example of Ai research work, let us watch DQN learning to play the Atari game of breakout at a super human level!"
   ]
  },
  {
   "cell_type": "code",
   "execution_count": 2,
   "metadata": {
    "scrolled": true
   },
   "outputs": [
    {
     "data": {
      "image/jpeg": "[encoded data removed]",
      "text/html": [
       "\n",
       "        <iframe\n",
       "            width=\"600\"\n",
       "            height=\"400\"\n",
       "            src=\"https://www.youtube.com/embed/TmPfTpjtdgg\"\n",
       "            frameborder=\"0\"\n",
       "            allowfullscreen\n",
       "        ></iframe>\n",
       "        "
      ],
      "text/plain": [
       "<IPython.lib.display.YouTubeVideo at 0x7f8ab46542e8>"
      ]
     },
     "execution_count": 2,
     "metadata": {},
     "output_type": "execute_result"
    }
   ],
   "source": [
    "#If no video appears here - run this cell by selecting it and clicking the run button above or alternatively\n",
    "# by pressing shift-enter\n",
    "\n",
    "#title DQN Going Superhuman\n",
    "#@markdown In this now classic video, watch & see how the DQN algorithm learns the absolute best way to play the Atari game of Breakout.\n",
    "from IPython.display import YouTubeVideo \n",
    "YouTubeVideo('TmPfTpjtdgg', width=600, height=400)"
   ]
  },
  {
   "cell_type": "markdown",
   "metadata": {},
   "source": [
    "."
   ]
  },
  {
   "cell_type": "markdown",
   "metadata": {},
   "source": [
    "\n",
    "\n",
    "\n",
    "Lets take a look at the DQN algorithm, training in 2015..."
   ]
  },
  {
   "cell_type": "code",
   "execution_count": 3,
   "metadata": {},
   "outputs": [
    {
     "data": {
      "image/jpeg": "[encoded data removed]",
      "text/html": [
       "\n",
       "        <iframe\n",
       "            width=\"600\"\n",
       "            height=\"400\"\n",
       "            src=\"https://www.youtube.com/embed/eG1Ed8PTJ18\"\n",
       "            frameborder=\"0\"\n",
       "            allowfullscreen\n",
       "        ></iframe>\n",
       "        "
      ],
      "text/plain": [
       "<IPython.lib.display.YouTubeVideo at 0x7f8ab4649160>"
      ]
     },
     "execution_count": 3,
     "metadata": {},
     "output_type": "execute_result"
    }
   ],
   "source": [
    "#If no video appears here - run this cell by selecting it and clicking the run button above or alternatively\n",
    "# by pressing shift-enter\n",
    "\n",
    "\n",
    "#@title DQN Training...\n",
    "#@markdown Here we can see a DQN Agent training\n",
    "from IPython.display import YouTubeVideo \n",
    "YouTubeVideo('eG1Ed8PTJ18', width=600, height=400)"
   ]
  },
  {
   "cell_type": "markdown",
   "metadata": {},
   "source": [
    "One thing you might have noticed in the video above is \"hours training\". Unfortunately back in 2015, DQN took 75 hours to train a DQN up to human level.\n",
    "\n",
    "**That is 3.125 days worth of compute time on a normal 2015 computer!**"
   ]
  },
  {
   "cell_type": "markdown",
   "metadata": {},
   "source": [
    "Things have changed since 2015 however & lucky for us the introduction of DQN kicked off a wave of resurgence in academic study focussing on Reinforcement Learning, [leading to many new algorithms](https://arxiv.org/pdf/1708.07902.pdf), some of which we can see in the image below! \n",
    "\n",
    "**Notice how DQN is the middle!**"
   ]
  },
  {
   "cell_type": "markdown",
   "metadata": {},
   "source": [
    "![alt text](https://i.ibb.co/sy9xRF2/Screen-Shot-2019-02-21-at-9-30-09-am.png)\n"
   ]
  },
  {
   "cell_type": "markdown",
   "metadata": {},
   "source": [
    "."
   ]
  },
  {
   "cell_type": "markdown",
   "metadata": {},
   "source": [
    "In todays lab we are going to making use of an algorithm developed by Deepmind called \"IMPALA\" which is short hand for[ \"Importance Weighted Actor-Learner Architectures\"](https://arxiv.org/abs/1802.01561). IMPALA is a distant couzin of DQN and is state of the art being [actively used by Deepmind right now for their research. ](https://www.quora.com/Is-Deepmind-AIs-alphastar-a-model-free-or-model-based-RL-model)"
   ]
  },
  {
   "cell_type": "markdown",
   "metadata": {},
   "source": [
    "Unlike DQN, IMPALA allows us to parallelize training of our Reinforcement Learning agents and makes use of both CPUs & GPUs."
   ]
  },
  {
   "cell_type": "markdown",
   "metadata": {},
   "source": [
    "## We are going to show you how, using AWS, you can parallelize the training of your reinforcment learning algorithms to get insanely fast turn around times & results for your reinforcement learning experiments."
   ]
  },
  {
   "cell_type": "markdown",
   "metadata": {},
   "source": [
    "The objective of today's lab is:\n",
    "\n",
    "1. Make use of a state of the art Reinforcement Learning algorithm (IMPALA) to learn how to play the Atari game of breakout!\n",
    "2. Make use of Amazon's state of the art compute resources. Instead of 3.125 days of training time, we are going to train our RL Agent to play Atari Breakout in 15 minutes."
   ]
  },
  {
   "cell_type": "markdown",
   "metadata": {},
   "source": [
    "."
   ]
  },
  {
   "cell_type": "markdown",
   "metadata": {},
   "source": [
    "---"
   ]
  },
  {
   "cell_type": "markdown",
   "metadata": {},
   "source": [
    "**In the first cell block that you ran at the start of this workshop we actually started training out IMPALA algorithm on the Atari game of breakout!**\n",
    "\n",
    "So you should be roughly 8 minutes though the training process already!\n",
    "\n",
    "We are now going to walk through exactly what you did- so you can train your own experiments in the future!\n",
    "\n",
    "But first lets see how our Reinforcement Learning agent doing!"
   ]
  },
  {
   "cell_type": "markdown",
   "metadata": {},
   "source": [
    "### Visualizating our Reinforcement Learning Algorithm Playing!\n",
    "\n",
    "While it's running there are a variety of ways we can track progress of the running training job.  Some intermediate output gets saved to S3 during training, so we'll set up to capture that."
   ]
  },
  {
   "cell_type": "code",
   "execution_count": null,
   "metadata": {},
   "outputs": [],
   "source": [
    "print(\"Job name: {}\".format(job_name))\n",
    "\n",
    "s3_url = \"s3://{}/{}\".format(s3_bucket,job_name)\n",
    "\n",
    "output_tar_key = \"{}/output/output.tar.gz\".format(job_name)\n",
    "\n",
    "intermediate_folder_key = \"{}/output/intermediate/\".format(job_name)\n",
    "output_url = \"s3://{}/{}\".format(s3_bucket, output_tar_key)\n",
    "intermediate_url = \"s3://{}/{}\".format(s3_bucket, intermediate_folder_key)\n",
    "\n",
    "print(\"S3 job path: {}\".format(s3_url))\n",
    "print(\"Output.tar.gz location: {}\".format(output_url))\n",
    "print(\"Intermediate folder path: {}\".format(intermediate_url))\n",
    "    \n",
    "tmp_dir = \"/tmp/{}\".format(job_name)\n",
    "os.system(\"mkdir {}\".format(tmp_dir))\n",
    "print(\"Create local folder {}\".format(tmp_dir))"
   ]
  },
  {
   "cell_type": "markdown",
   "metadata": {},
   "source": [
    "### Watch your Reinforcement Agent training live!!\n",
    "\n",
    "Videos of certain rollouts get written to S3 during training.  We can observe our Reinforcement learning agent learning live!  Here we fetch the last 10 videos from S3, and render the last one.  \n",
    "\n",
    "#### Initially you'll notice that the agent will lose the game straight away because it's not very intelligent yet, but if you continue to run the cell below every few minutes throughout the workshop you'll see the agent \"learn\" and get more intelligent over time.\n",
    "&nbsp;\n",
    "&nbsp;"
   ]
  },
  {
   "cell_type": "code",
   "execution_count": null,
   "metadata": {},
   "outputs": [],
   "source": [
    "recent_videos = wait_for_s3_object(s3_bucket, intermediate_folder_key, tmp_dir, \n",
    "                                fetch_only=(lambda obj: obj.key.endswith(\".mp4\") and obj.size>0), limit=10)\n",
    "\n",
    "last_video = recent_videos[-1]  # Pick which video to watch\n",
    "os.system(\"sudo mkdir -p ./src/tmp_render/ && sudo cp {} ./src/tmp_render/last_video.mp4\".format(last_video))\n",
    "HTML('<video src=\"./src/tmp_render/last_video.mp4\" controls autoplay></video>')"
   ]
  },
  {
   "cell_type": "markdown",
   "metadata": {},
   "source": [
    "### Plot metrics for training job\n",
    "We can see the reward metric of the training as it's running, using algorithm metrics that are recorded in CloudWatch metrics.  We can plot this to see the performance of the model over time.\n",
    "\n",
    "#### Rerun the cell below every few minutes throughout the workshop to see the plot of the agent's \"average reward\" over time"
   ]
  },
  {
   "cell_type": "code",
   "execution_count": null,
   "metadata": {},
   "outputs": [],
   "source": [
    "%matplotlib inline\n",
    "from sagemaker.analytics import TrainingJobAnalytics\n",
    "\n",
    "df = TrainingJobAnalytics(job_name, ['episode_reward_mean']).dataframe()\n",
    "num_metrics = len(df)\n",
    "if num_metrics == 0:\n",
    "    print(\"No algorithm metrics found in CloudWatch\")\n",
    "else:\n",
    "    plt = df.plot(x='timestamp', y='value', figsize=(12,5), legend=True, style='b-')\n",
    "    plt.set_ylabel('Mean reward per episode')\n",
    "    plt.set_xlabel('Training time (s)')"
   ]
  },
  {
   "cell_type": "markdown",
   "metadata": {},
   "source": [
    "# End of lab."
   ]
  }
 ],
 "metadata": {
  "accelerator": "GPU",
  "colab": {
   "name": "Sagemaker RL Lab - Summit 2019 - One Click.ipynb",
   "provenance": [],
   "version": "0.3.2"
  },
  "kernelspec": {
   "display_name": "conda_tensorflow_p36",
   "language": "python",
   "name": "conda_tensorflow_p36"
  },
  "language_info": {
   "codemirror_mode": {
    "name": "ipython",
    "version": 3
   },
   "file_extension": ".py",
   "mimetype": "text/x-python",
   "name": "python",
   "nbconvert_exporter": "python",
   "pygments_lexer": "ipython3",
   "version": "3.6.5"
  }
 },
 "nbformat": 4,
 "nbformat_minor": 1
}
