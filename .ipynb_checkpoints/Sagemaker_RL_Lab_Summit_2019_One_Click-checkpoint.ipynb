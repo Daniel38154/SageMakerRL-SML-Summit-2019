{
 "cells": [
  {
   "cell_type": "markdown",
   "metadata": {
    "colab_type": "text",
    "id": "0Zv-79trOkkx"
   },
   "source": [
    "# Sagemaker Sydney Summit 2019 Reinforcement Learning Lab"
   ]
  },
  {
   "cell_type": "markdown",
   "metadata": {},
   "source": [
    "Authors: Paul Conyngham & William Xu | StarAi Project - Machine Learning Engineers - | Email : contact@starai.com"
   ]
  },
  {
   "cell_type": "markdown",
   "metadata": {},
   "source": [
    "---"
   ]
  },
  {
   "cell_type": "markdown",
   "metadata": {},
   "source": [
    "Hi! and welcome to the sage maker Reinforcement Learning lab for AWS Summit 2019. "
   ]
  },
  {
   "cell_type": "markdown",
   "metadata": {},
   "source": [
    "This workshop gives you an introduction to state of the art Reinforcement Learning & shows you how, using AWS, you can parallelise the training of your reinforcement learning algorithms to get insanely fast turn around times & results for your reinforcement learning experiments."
   ]
  },
  {
   "cell_type": "markdown",
   "metadata": {},
   "source": [
    "But first, an intro to Jupyter notebooks! "
   ]
  },
  {
   "cell_type": "markdown",
   "metadata": {},
   "source": [
    "---"
   ]
  },
  {
   "cell_type": "markdown",
   "metadata": {
    "colab_type": "text",
    "id": "gbqo0hk7Ornl"
   },
   "source": [
    "\n",
    "**For those new to Jupyter Notebooks** - the interface you are using right now - there are two types of \"cell blocks\" **text** (like the one you are reading) and **code blocks**.\n",
    "\n",
    "To run code Cell blocks :\n",
    "\n",
    "1.  First select the code cell by simply left clicking on it below, when you select it - it should get a green border as follows:\n",
    "\n",
    "![alt text](https://i.ibb.co/rt9NdXL/Screen-Shot-2019-03-25-at-2-02-08-pm.png)\n",
    "\n",
    "2.   Once the cell is selected, click the \"run\" button at the top of the notebook, which looks like this:\n",
    "\n",
    "![alt text](https://i.ibb.co/fCwfvBk/Screen-Shot-2019-03-25-at-2-05-33-pm.png)\n",
    "\n",
    "Hitting \"shift-enter\"together is also a shortcut for the Run command/button above\n",
    "\n",
    "\n",
    "---\n",
    "\n"
   ]
  },
  {
   "cell_type": "markdown",
   "metadata": {},
   "source": [
    "We want to get started with training as soon as possible, select the code cell directly below where is says \"run the code cell below\" and run it. If you need help follow step 1 & 2 above to do this\n",
    "\n",
    "\n",
    "This will start our reinforcement learning model's training process. We will spend the rest of this lab explaining what is going on here line by line - with an amazing result to follow!"
   ]
  },
  {
   "cell_type": "markdown",
   "metadata": {},
   "source": [
    "**run the code cell below:**\n",
    "\n",
    "Once the cell block has run, continue scrolling & reading to continue the lesson"
   ]
  },
  {
   "cell_type": "code",
   "execution_count": null,
   "metadata": {},
   "outputs": [],
   "source": [
    "# ONE CLICK REINFORCEMENT LEARNING!\n",
    "\n",
    "# RUN ME BY FIRST SELECTING THIS BLOCK, AND CLICKING \"RUN\" ABOVE!\n",
    "\n",
    "#import relevant Python libraries\n",
    "import sagemaker\n",
    "import boto3\n",
    "import sys\n",
    "import os\n",
    "import glob\n",
    "import re\n",
    "import subprocess\n",
    "from IPython.display import HTML, Markdown\n",
    "import time\n",
    "from time import gmtime, strftime\n",
    "sys.path.append(\"common\")\n",
    "from misc import get_execution_role, wait_for_s3_object\n",
    "from docker_utils import build_and_push_docker_image\n",
    "from sagemaker.rl import RLEstimator, RLToolkit, RLFramework\n",
    "from markdown_helper import generate_help_for_s3_endpoint_permissions, create_s3_endpoint_manually\n",
    "\n",
    "#setup an s3 bucket to store data!\n",
    "sage_session = sagemaker.session.Session()\n",
    "s3_bucket = sage_session.default_bucket()  \n",
    "s3_output_path = 's3://{}/'.format(s3_bucket)\n",
    "print(\"S3 bucket path: {}\".format(s3_output_path))\n",
    "\n",
    "\n",
    "job_name_prefix = 'rl-gym-summit'\n",
    "aws_region = boto3.Session().region_name\n",
    "\n",
    "instance_type = \"ml.p3.8xlarge\"\n",
    "train_instance_count = 1\n",
    "\n",
    "#setup an IAM role!\n",
    "try:\n",
    "    role = sagemaker.get_execution_role()\n",
    "except:\n",
    "    role = get_execution_role()\n",
    "\n",
    "print(\"Using IAM role arn: {}\".format(role))\n",
    "\n",
    "custom_image_name = \"413953306596.dkr.ecr.ap-northeast-1.amazonaws.com/sagemaker-gym-ray-gpu\"\n",
    "\n",
    "metric_definitions = RLEstimator.default_metric_definitions(RLToolkit.RAY)\n",
    "    \n",
    "estimator = RLEstimator(entry_point=\"train-pong.py\",\n",
    "                        source_dir='src',\n",
    "                        dependencies=[\"common/sagemaker_rl\"],\n",
    "                        image_name=custom_image_name,\n",
    "                        role=role,\n",
    "                        train_instance_type=instance_type,\n",
    "                        train_instance_count=train_instance_count,\n",
    "                        output_path=s3_output_path,\n",
    "                        base_job_name=job_name_prefix,\n",
    "                        metric_definitions=metric_definitions,\n",
    "                        hyperparameters={\n",
    "                            # ml.p3.8xlarge has 32 cores. We have to leave 1 core for ray scheduler.\n",
    "                            \"rl.training.config.num_workers\": 32 * train_instance_count - 1,\n",
    "                            \"rl.training.config.num_gpus\": 2\n",
    "                        }\n",
    "                    )\n",
    "\n",
    "estimator.fit(wait=False)\n",
    "job_name = estimator.latest_training_job.job_name\n",
    "print(\"Training job: %s\" % job_name)\n"
   ]
  },
  {
   "cell_type": "markdown",
   "metadata": {},
   "source": [
    "# Explanation!"
   ]
  },
  {
   "cell_type": "markdown",
   "metadata": {},
   "source": [
    "Reinforcement Learning has been directly responsible for some of the biggest breakthoughs in the field of modern machine learning. \n",
    "\n"
   ]
  },
  {
   "cell_type": "markdown",
   "metadata": {},
   "source": [
    "Some of the events you may have heard about in the media include [AlphaGo](https://deepmind.com/research/alphago/), [OpenAI Five](https://openai.com/blog/openai-five/) &[ Deepmind's AlphaStar](https://deepmind.com/blog/alphastar-mastering-real-time-strategy-game-starcraft-ii/) - all powered by Reinforcement Learning."
   ]
  },
  {
   "cell_type": "markdown",
   "metadata": {},
   "source": [
    "Outside of games however, we are beginning to see more use cases of Reinforcement Learning in the wild. \n",
    "\n",
    "Including [web stores product recommendations](https://arxiv.org/pdf/1805.02343.pdf),  [  news recommendation](https://towardsdatascience.com/deep-reinforcement-learning-for-news-recommendation-part-1-architecture-5741b1a6ed56), [in the finance industry](https://www.forbes.com/sites/quora/2018/07/25/what-are-the-latest-works-on-reinforcement-learning-in-the-financial-field/#3c35b15b44df) , [Automated Architecture search for Machine Learning using RL](https://ai.googleblog.com/2017/05/using-machine-learning-to-explore.html) ,[End to End  Machine Learning for Self Driving Cars](https://wayve.ai/), and last and most excitingly the field of Robotics where [Deep Reinforcement Learning is exploding!](https://www.therobotreport.com/reinforcement-learning-industrial-robotics/)"
   ]
  },
  {
   "cell_type": "markdown",
   "metadata": {},
   "source": [
    "But it all started somewhere, and today's current enthusiam around RL started only 4 years ago, with the release of [Deepmind DQN algorithm in the scientific journal nature in 2015.](https://www.nature.com/articles/nature14236)"
   ]
  },
  {
   "cell_type": "markdown",
   "metadata": {},
   "source": [
    "For those who may not be aware, in the DQN paper, Deepmind took several classic atari 2600 games and learnt to play them at human level with just raw pixels values from the screen. \n",
    "\n",
    "When learning to play games, you & I as humans learnt to play this exact same way by just observing the raw images that are being produced by the screen!"
   ]
  },
  {
   "cell_type": "markdown",
   "metadata": {},
   "source": [
    "But what really set DQN apart from previous work, was that in some instances, the DQN algorithm ***went beyond human level!***"
   ]
  },
  {
   "cell_type": "markdown",
   "metadata": {},
   "source": [
    "Some of you may have seen this before, but in what has now become a famous example of Ai research work, let us watch DQN learning to play the Atari game of breakout at a super human level!"
   ]
  },
  {
   "cell_type": "code",
   "execution_count": 3,
   "metadata": {
    "scrolled": true
   },
   "outputs": [
    {
     "data": {
      "image/jpeg": "[encoded data removed]",
      "text/html": [
       "\n",
       "        <iframe\n",
       "            width=\"600\"\n",
       "            height=\"400\"\n",
       "            src=\"https://www.youtube.com/embed/TmPfTpjtdgg\"\n",
       "            frameborder=\"0\"\n",
       "            allowfullscreen\n",
       "        ></iframe>\n",
       "        "
      ],
      "text/plain": [
       "<IPython.lib.display.YouTubeVideo at 0x1111f5470>"
      ]
     },
     "execution_count": 3,
     "metadata": {},
     "output_type": "execute_result"
    }
   ],
   "source": [
    "#If no video appears here - run this cell by selecting it and clicking the run button above or alternatively\n",
    "# by pressing shift-enter\n",
    "\n",
    "#title DQN Going Superhuman\n",
    "#@markdown In this now classic video, watch & see how the DQN algorithm learns the absolute best way to play the Atari game of Breakout.\n",
    "from IPython.display import YouTubeVideo \n",
    "YouTubeVideo('TmPfTpjtdgg', width=600, height=400)"
   ]
  },
  {
   "cell_type": "markdown",
   "metadata": {},
   "source": []
  },
  {
   "cell_type": "markdown",
   "metadata": {},
   "source": [
    "\n",
    "\n",
    "\n",
    "Lets take a look at the DQN algorithm, training in 2015..."
   ]
  },
  {
   "cell_type": "code",
   "execution_count": 4,
   "metadata": {},
   "outputs": [
    {
     "data": {
      "image/jpeg": "[encoded data removed]",
      "text/html": [
       "\n",
       "        <iframe\n",
       "            width=\"600\"\n",
       "            height=\"400\"\n",
       "            src=\"https://www.youtube.com/embed/eG1Ed8PTJ18\"\n",
       "            frameborder=\"0\"\n",
       "            allowfullscreen\n",
       "        ></iframe>\n",
       "        "
      ],
      "text/plain": [
       "<IPython.lib.display.YouTubeVideo at 0x1111f5588>"
      ]
     },
     "execution_count": 4,
     "metadata": {},
     "output_type": "execute_result"
    }
   ],
   "source": [
    "#If no video appears here - run this cell by selecting it and clicking the run button above or alternatively\n",
    "# by pressing shift-enter\n",
    "\n",
    "\n",
    "#@title DQN Training...\n",
    "#@markdown Here we can see a DQN Agent training\n",
    "from IPython.display import YouTubeVideo \n",
    "YouTubeVideo('eG1Ed8PTJ18', width=600, height=400)"
   ]
  },
  {
   "cell_type": "markdown",
   "metadata": {},
   "source": [
    "One thing you might have noticed in the video above is \"hours training\". Unfortunately back in 2015, DQN took 75 hours to train a DQN up to human level.\n",
    "\n",
    "**That is 3.125 days worth of compute time on a normal 2015 computer!**"
   ]
  },
  {
   "cell_type": "markdown",
   "metadata": {},
   "source": [
    "Things have changed since 2015 however & lucky for us the introduction of DQN kicked off a wave of resurgence in academic study focussing on Reinforcement Learning, [leading to many new algorithms](https://arxiv.org/pdf/1708.07902.pdf), some of which we can see in the image below! \n",
    "\n",
    "Notice how DQN is the middle!"
   ]
  },
  {
   "cell_type": "markdown",
   "metadata": {},
   "source": [
    "![alt text](https://i.ibb.co/sy9xRF2/Screen-Shot-2019-02-21-at-9-30-09-am.png)\n"
   ]
  },
  {
   "cell_type": "markdown",
   "metadata": {},
   "source": [
    "."
   ]
  },
  {
   "cell_type": "markdown",
   "metadata": {},
   "source": [
    "In todays lab we are going to making use of an algorithm developed by Deepmind called \"IMPALA\" which is short hand for[ \"Importance Weighted Actor-Learner Architectures\"](https://arxiv.org/abs/1802.01561). IMPALA is a distant couzin of DQN and is state of the art being [actively used by Deepmind right now for their research. ](https://www.quora.com/Is-Deepmind-AIs-alphastar-a-model-free-or-model-based-RL-model)"
   ]
  },
  {
   "cell_type": "markdown",
   "metadata": {},
   "source": [
    "Unlike DQN, IMPALA allows us to parallelize training of our Reinforcement Learning agents and makes use of both CPUs & GPUs."
   ]
  },
  {
   "cell_type": "markdown",
   "metadata": {},
   "source": [
    "## We are going to show you how, using AWS, you can parallelize the training of your reinforcment learning algorithms to get insanely fast turn around times & results for your reinforcement learning experiments."
   ]
  },
  {
   "cell_type": "markdown",
   "metadata": {},
   "source": [
    "The objective of today's lab is going to be:\n",
    "\n",
    "1. Make use of a state of the art Reinforcement Learning algorithm (IMPALA) to learn how to play the Atari game of breakout!\n",
    "2. Make use of Amazon's state of the art compute resources. Instead of 3.125 days of training time, we are going to train our RL Agent to play Atari Breakout in 15 minutes."
   ]
  },
  {
   "cell_type": "markdown",
   "metadata": {},
   "source": [
    "."
   ]
  },
  {
   "cell_type": "markdown",
   "metadata": {},
   "source": [
    "---"
   ]
  },
  {
   "cell_type": "markdown",
   "metadata": {},
   "source": [
    "In the first cell block that you ran at the start of this workshop we actually started training out IMPALA algorithm on the Atari game of breakout!\n",
    "\n",
    "So you should be roughly 8 minutes though the training process already!\n",
    "\n",
    "We are now going to walk through exactly what you did- so you can train your own experiments in the future!\n",
    "\n",
    "But first lets see how our Reinforcement Learning agent doing!"
   ]
  },
  {
   "cell_type": "markdown",
   "metadata": {},
   "source": [
    "### Visualizating our Reinforcement Learning Algorithm Playing!\n",
    "\n",
    "While it's running there are a variety of ways we can track progress of the running training job.  Some intermediate output gets saved to S3 during training, so we'll set up to capture that."
   ]
  },
  {
   "cell_type": "code",
   "execution_count": 8,
   "metadata": {},
   "outputs": [
    {
     "name": "stdout",
     "output_type": "stream",
     "text": [
      "Job name: rl-gym-summit-2019-04-23-18-22-02-054\n",
      "S3 job path: s3://sagemaker-ap-northeast-1-413953306596/rl-gym-summit-2019-04-23-18-22-02-054\n",
      "Output.tar.gz location: s3://sagemaker-ap-northeast-1-413953306596/rl-gym-summit-2019-04-23-18-22-02-054/output/output.tar.gz\n",
      "Intermediate folder path: s3://sagemaker-ap-northeast-1-413953306596/rl-gym-summit-2019-04-23-18-22-02-054/output/intermediate/\n",
      "Create local folder /tmp/rl-gym-summit-2019-04-23-18-22-02-054\n"
     ]
    }
   ],
   "source": [
    "print(\"Job name: {}\".format(job_name))\n",
    "\n",
    "s3_url = \"s3://{}/{}\".format(s3_bucket,job_name)\n",
    "\n",
    "output_tar_key = \"{}/output/output.tar.gz\".format(job_name)\n",
    "\n",
    "intermediate_folder_key = \"{}/output/intermediate/\".format(job_name)\n",
    "output_url = \"s3://{}/{}\".format(s3_bucket, output_tar_key)\n",
    "intermediate_url = \"s3://{}/{}\".format(s3_bucket, intermediate_folder_key)\n",
    "\n",
    "print(\"S3 job path: {}\".format(s3_url))\n",
    "print(\"Output.tar.gz location: {}\".format(output_url))\n",
    "print(\"Intermediate folder path: {}\".format(intermediate_url))\n",
    "    \n",
    "tmp_dir = \"/tmp/{}\".format(job_name)\n",
    "os.system(\"mkdir {}\".format(tmp_dir))\n",
    "print(\"Create local folder {}\".format(tmp_dir))"
   ]
  },
  {
   "cell_type": "markdown",
   "metadata": {},
   "source": [
    "### Fetch videos of training rollouts\n",
    "Videos of certain rollouts get written to S3 during training.  Here we fetch the last 10 videos from S3, and render the last one."
   ]
  },
  {
   "cell_type": "code",
   "execution_count": 26,
   "metadata": {},
   "outputs": [
    {
     "name": "stdout",
     "output_type": "stream",
     "text": [
      "Waiting for s3://sagemaker-ap-northeast-1-413953306596/rl-gym-summit-2019-04-23-18-22-02-054/output/intermediate/...\n",
      "Only downloading 10 of 465 files\n",
      "Downloading rl-gym-summit-2019-04-23-18-22-02-054/output/intermediate/training/IMPALA_PongNoFrameskip-v4_0_2019-04-23_18-25-48ja7mjzcc/openaigym.video.3.215.video000008.mp4\n",
      "Downloading rl-gym-summit-2019-04-23-18-22-02-054/output/intermediate/training/IMPALA_PongNoFrameskip-v4_0_2019-04-23_18-25-48ja7mjzcc/openaigym.video.3.225.video000008.mp4\n",
      "Downloading rl-gym-summit-2019-04-23-18-22-02-054/output/intermediate/training/IMPALA_PongNoFrameskip-v4_0_2019-04-23_18-25-48ja7mjzcc/openaigym.video.3.208.video000008.mp4\n",
      "Downloading rl-gym-summit-2019-04-23-18-22-02-054/output/intermediate/training/IMPALA_PongNoFrameskip-v4_0_2019-04-23_18-25-48ja7mjzcc/openaigym.video.0.223.video000008.mp4\n",
      "Downloading rl-gym-summit-2019-04-23-18-22-02-054/output/intermediate/training/IMPALA_PongNoFrameskip-v4_0_2019-04-23_18-25-48ja7mjzcc/openaigym.video.2.210.video000008.mp4\n",
      "Downloading rl-gym-summit-2019-04-23-18-22-02-054/output/intermediate/training/IMPALA_PongNoFrameskip-v4_0_2019-04-23_18-25-48ja7mjzcc/openaigym.video.4.206.video000008.mp4\n",
      "Downloading rl-gym-summit-2019-04-23-18-22-02-054/output/intermediate/training/IMPALA_PongNoFrameskip-v4_0_2019-04-23_18-25-48ja7mjzcc/openaigym.video.4.220.video000008.mp4\n",
      "Downloading rl-gym-summit-2019-04-23-18-22-02-054/output/intermediate/training/IMPALA_PongNoFrameskip-v4_0_2019-04-23_18-25-48ja7mjzcc/openaigym.video.0.206.video000008.mp4\n",
      "Downloading rl-gym-summit-2019-04-23-18-22-02-054/output/intermediate/training/IMPALA_PongNoFrameskip-v4_0_2019-04-23_18-25-48ja7mjzcc/openaigym.video.3.206.video000008.mp4\n",
      "Downloading rl-gym-summit-2019-04-23-18-22-02-054/output/intermediate/training/IMPALA_PongNoFrameskip-v4_0_2019-04-23_18-25-48ja7mjzcc/openaigym.video.1.200.video000008.mp4\n"
     ]
    }
   ],
   "source": [
    "recent_videos = wait_for_s3_object(s3_bucket, intermediate_folder_key, tmp_dir, \n",
    "                                fetch_only=(lambda obj: obj.key.endswith(\".mp4\") and obj.size>0), limit=10)"
   ]
  },
  {
   "cell_type": "code",
   "execution_count": 21,
   "metadata": {},
   "outputs": [
    {
     "data": {
      "text/html": [
       "<video src=\"./src/tmp_render/last_video.mp4\" controls autoplay></video>"
      ],
      "text/plain": [
       "<IPython.core.display.HTML object>"
      ]
     },
     "execution_count": 21,
     "metadata": {},
     "output_type": "execute_result"
    }
   ],
   "source": [
    "last_video = sorted(recent_videos)[-1]  # Pick which video to watch\n",
    "os.system(\"mkdir -p ./src/tmp_render/ && cp {} ./src/tmp_render/last_video.mp4\".format(last_video))\n",
    "HTML('<video src=\"./src/tmp_render/last_video.mp4\" controls autoplay></video>')"
   ]
  },
  {
   "cell_type": "markdown",
   "metadata": {},
   "source": [
    "### Import relevant libraries\n",
    "\n",
    "First we imported the relevant Python libraries, you can re do this"
   ]
  },
  {
   "cell_type": "code",
   "execution_count": 1,
   "metadata": {
    "colab": {
     "base_uri": "https://localhost:8080/",
     "height": 90201
    },
    "colab_type": "code",
    "id": "OJb-2Dufmqs-",
    "outputId": "3051beae-ffbc-4347-a018-83d9aa46b658"
   },
   "outputs": [],
   "source": [
    "import sagemaker\n",
    "import boto3\n",
    "import sys\n",
    "import os\n",
    "import glob\n",
    "import re\n",
    "import subprocess\n",
    "from IPython.display import HTML, Markdown\n",
    "import time\n",
    "from time import gmtime, strftime\n",
    "sys.path.append(\"common\")\n",
    "from misc import get_execution_role, wait_for_s3_object\n",
    "from docker_utils import build_and_push_docker_image\n",
    "from sagemaker.rl import RLEstimator, RLToolkit, RLFramework\n",
    "from markdown_helper import generate_help_for_s3_endpoint_permissions, create_s3_endpoint_manually"
   ]
  },
  {
   "cell_type": "markdown",
   "metadata": {},
   "source": [
    "### Setup S3 bucket\n",
    "\n",
    "Set up the linkage and authentication to the S3 bucket. S3 Buckets are a form of data storage available on AWS. Our bucket will be used for checkpointing and the metadata. "
   ]
  },
  {
   "cell_type": "code",
   "execution_count": 2,
   "metadata": {},
   "outputs": [
    {
     "name": "stdout",
     "output_type": "stream",
     "text": [
      "S3 bucket path: s3://sagemaker-ap-northeast-1-413953306596/\n"
     ]
    }
   ],
   "source": [
    "sage_session = sagemaker.session.Session()\n",
    "s3_bucket = sage_session.default_bucket()  \n",
    "s3_output_path = 's3://{}/'.format(s3_bucket)\n",
    "print(\"S3 bucket path: {}\".format(s3_output_path))"
   ]
  },
  {
   "cell_type": "markdown",
   "metadata": {},
   "source": [
    "### Define Variables \n",
    "\n",
    "We define variables such as the job prefix for the training jobs *and the image path for the container (only when this is BYOC).*"
   ]
  },
  {
   "cell_type": "code",
   "execution_count": 3,
   "metadata": {},
   "outputs": [],
   "source": [
    "# create a descriptive job name \n",
    "job_name_prefix = 'rl-gym-summit'\n",
    "aws_region = boto3.Session().region_name\n",
    "\n",
    "instance_type = \"ml.p3.8xlarge\"\n",
    "train_instance_count = 1"
   ]
  },
  {
   "cell_type": "markdown",
   "metadata": {},
   "source": [
    "### Create an IAM role\n",
    "\n",
    "Either get the execution role when running from a SageMaker notebook instance `role = sagemaker.get_execution_role()` or, when running from local notebook instance, use utils method `role = get_execution_role()` to create an execution role."
   ]
  },
  {
   "cell_type": "code",
   "execution_count": 4,
   "metadata": {},
   "outputs": [
    {
     "name": "stdout",
     "output_type": "stream",
     "text": [
      "Using IAM role arn: arn:aws:iam::413953306596:role/service-role/AmazonSageMaker-ExecutionRole-20180511T160035\n"
     ]
    }
   ],
   "source": [
    "try:\n",
    "    role = sagemaker.get_execution_role()\n",
    "except:\n",
    "    role = get_execution_role()\n",
    "\n",
    "print(\"Using IAM role arn: {}\".format(role))"
   ]
  },
  {
   "cell_type": "markdown",
   "metadata": {},
   "source": [
    "Build a docker container..usually we have to but we did this for you earlier"
   ]
  },
  {
   "cell_type": "code",
   "execution_count": 5,
   "metadata": {},
   "outputs": [],
   "source": [
    "custom_image_name = \"413953306596.dkr.ecr.ap-northeast-1.amazonaws.com/sagemaker-gym-ray-gpu\""
   ]
  },
  {
   "cell_type": "markdown",
   "metadata": {},
   "source": [
    "### Start a training job\n",
    "This will run a training job on a a separate VM instance (ml.p3.8xlarge). You can view the status of this training job from the Amazon Sagemaker menu\n",
    "\n",
    "Amazon Sagemaker --> Training --> Training Jobs"
   ]
  },
  {
   "cell_type": "code",
   "execution_count": 7,
   "metadata": {},
   "outputs": [
    {
     "name": "stderr",
     "output_type": "stream",
     "text": [
      "INFO:sagemaker:Creating training-job with name: rl-gym-summit-2019-04-23-18-22-02-054\n"
     ]
    },
    {
     "name": "stdout",
     "output_type": "stream",
     "text": [
      "Training job: rl-gym-summit-2019-04-23-18-22-02-054\n"
     ]
    }
   ],
   "source": [
    "metric_definitions = RLEstimator.default_metric_definitions(RLToolkit.RAY)\n",
    "    \n",
    "estimator = RLEstimator(entry_point=\"train-pong.py\",\n",
    "                        source_dir='src',\n",
    "                        dependencies=[\"common/sagemaker_rl\"],\n",
    "                        image_name=custom_image_name,\n",
    "                        role=role,\n",
    "                        train_instance_type=instance_type,\n",
    "                        train_instance_count=train_instance_count,\n",
    "                        output_path=s3_output_path,\n",
    "                        base_job_name=job_name_prefix,\n",
    "                        metric_definitions=metric_definitions,\n",
    "                        hyperparameters={\n",
    "                            # ml.p3.8xlarge has 32 cores. We have to leave 1 core for ray scheduler.\n",
    "                            \"rl.training.config.num_workers\": 32 * train_instance_count - 1,\n",
    "                            \"rl.training.config.num_gpus\": 2\n",
    "                        }\n",
    "                    )\n",
    "\n",
    "estimator.fit(wait=False)\n",
    "job_name = estimator.latest_training_job.job_name\n",
    "print(\"Training job: %s\" % job_name)"
   ]
  },
  {
   "cell_type": "markdown",
   "metadata": {},
   "source": [
    "### Plot metrics for training job\n",
    "We can see the reward metric of the training as it's running, using algorithm metrics that are recorded in CloudWatch metrics.  We can plot this to see the performance of the model over time."
   ]
  },
  {
   "cell_type": "code",
   "execution_count": 25,
   "metadata": {},
   "outputs": [
    {
     "data": {
      "image/png": "[encoded data removed]",
      "text/plain": [
       "<Figure size 864x360 with 1 Axes>"
      ]
     },
     "metadata": {},
     "output_type": "display_data"
    }
   ],
   "source": [
    "%matplotlib inline\n",
    "from sagemaker.analytics import TrainingJobAnalytics\n",
    "\n",
    "df = TrainingJobAnalytics(job_name, ['episode_reward_mean']).dataframe()\n",
    "num_metrics = len(df)\n",
    "if num_metrics == 0:\n",
    "    print(\"No algorithm metrics found in CloudWatch\")\n",
    "else:\n",
    "    plt = df.plot(x='timestamp', y='value', figsize=(12,5), legend=True, style='b-')\n",
    "    plt.set_ylabel('Mean reward per episode')\n",
    "    plt.set_xlabel('Training time (s)')"
   ]
  },
  {
   "cell_type": "markdown",
   "metadata": {},
   "source": [
    "# End of lab."
   ]
  },
  {
   "cell_type": "markdown",
   "metadata": {},
   "source": [
    "Below is support documentation for initializing the lab:"
   ]
  },
  {
   "cell_type": "markdown",
   "metadata": {},
   "source": [
    "### Build docker container\n",
    "\n",
    "We must build a custom docker container with Gym[Atari] installed.  This takes care of everything:\n",
    "\n",
    "1. Fetching base container image\n",
    "2. Installing Gym[Atari] and its dependencies\n",
    "3. Uploading the new container image to ECR\n",
    "\n",
    "This step can take a long time if you are running on a machine with a slow internet connection.  If your notebook instance is in SageMaker or EC2 it should take 3-10 minutes depending on the instance type.\n"
   ]
  },
  {
   "cell_type": "code",
   "execution_count": 48,
   "metadata": {
    "scrolled": true
   },
   "outputs": [
    {
     "name": "stdout",
     "output_type": "stream",
     "text": [
      "WARNING! Using --password via the CLI is insecure. Use --password-stdin.\n",
      "WARNING! Your password will be stored unencrypted in /home/ec2-user/.docker/config.json.\n",
      "Configure a credential helper to remove this warning. See\n",
      "https://docs.docker.com/engine/reference/commandline/login/#credentials-store\n",
      "\n",
      "Login Succeeded\n",
      "Logged into ECR\n",
      "Building docker image sagemaker-gym-ray-gpu from Dockerfile\n",
      "$ docker build -t sagemaker-gym-ray-gpu -f Dockerfile . --build-arg CPU_OR_GPU=gpu --build-arg AWS_REGION=ap-northeast-1\n",
      "Sending build context to Docker daemon   2.38MB\n",
      "Step 1/12 : ARG CPU_OR_GPU\n",
      "Step 2/12 : ARG AWS_REGION\n",
      "Step 3/12 : FROM 520713654638.dkr.ecr.${AWS_REGION}.amazonaws.com/sagemaker-rl-tensorflow:ray0.5.3-${CPU_OR_GPU}-py3\n",
      " ---> 8d64d9f985b7\n",
      "Step 4/12 : WORKDIR /opt/ml\n",
      " ---> Using cache\n",
      " ---> 2d870ee019ae\n",
      "Step 5/12 : RUN apt-get update && apt-get install -y       git cmake ffmpeg pkg-config       qtbase5-dev libqt5opengl5-dev libassimp-dev       libpython3.5-dev libtinyxml-dev     && cd /opt     && apt-get clean && rm -rf /var/cache/apt/archives/* /var/lib/apt/lists/*\n",
      " ---> Using cache\n",
      " ---> a5f5ff55c473\n",
      "Step 6/12 : RUN pip install --upgrade     pip     setuptools\n",
      " ---> Using cache\n",
      " ---> b76177be37a0\n",
      "Step 7/12 : RUN pip install -U gym && pip install gym[atari] && pip install -U ray==0.6.5 && ldconfig\n",
      " ---> Running in 6925c8d41742\n",
      "Collecting gym\n",
      "  Downloading https://files.pythonhosted.org/packages/7b/57/e2fc4123ff2b4e3d61ae9b3d08c6878aecf2d5ec69b585ed53bc2400607f/gym-0.12.1.tar.gz (1.5MB)\n",
      "Requirement already satisfied, skipping upgrade: scipy in /usr/local/lib/python3.6/dist-packages (from gym) (1.1.0)\n",
      "Requirement already satisfied, skipping upgrade: numpy>=1.10.4 in /usr/local/lib/python3.6/dist-packages (from gym) (1.15.4)\n",
      "Requirement already satisfied, skipping upgrade: requests>=2.0 in /usr/local/lib/python3.6/dist-packages (from gym) (2.20.1)\n",
      "Requirement already satisfied, skipping upgrade: six in /usr/local/lib/python3.6/dist-packages (from gym) (1.11.0)\n",
      "Requirement already satisfied, skipping upgrade: pyglet>=1.2.0 in /usr/local/lib/python3.6/dist-packages (from gym) (1.3.2)\n",
      "Requirement already satisfied, skipping upgrade: urllib3<1.25,>=1.21.1 in /usr/local/lib/python3.6/dist-packages (from requests>=2.0->gym) (1.24.1)\n",
      "Requirement already satisfied, skipping upgrade: idna<2.8,>=2.5 in /usr/local/lib/python3.6/dist-packages (from requests>=2.0->gym) (2.7)\n",
      "Requirement already satisfied, skipping upgrade: certifi>=2017.4.17 in /usr/local/lib/python3.6/dist-packages (from requests>=2.0->gym) (2018.10.15)\n",
      "Requirement already satisfied, skipping upgrade: chardet<3.1.0,>=3.0.2 in /usr/local/lib/python3.6/dist-packages (from requests>=2.0->gym) (3.0.4)\n",
      "Requirement already satisfied, skipping upgrade: future in /usr/local/lib/python3.6/dist-packages (from pyglet>=1.2.0->gym) (0.17.1)\n",
      "Building wheels for collected packages: gym\n",
      "  Building wheel for gym (setup.py): started\n",
      "  Building wheel for gym (setup.py): finished with status 'done'\n",
      "  Stored in directory: /root/.cache/pip/wheels/57/b0/13/4153e1acab826fbe612c95b1336a63a3fa6416902a8d74a1b7\n",
      "Successfully built gym\n",
      "Installing collected packages: gym\n",
      "  Found existing installation: gym 0.10.5\n",
      "    Uninstalling gym-0.10.5:\n",
      "      Successfully uninstalled gym-0.10.5\n",
      "Successfully installed gym-0.12.1\n",
      "Requirement already satisfied: gym[atari] in /usr/local/lib/python3.6/dist-packages (0.12.1)\n",
      "Requirement already satisfied: numpy>=1.10.4 in /usr/local/lib/python3.6/dist-packages (from gym[atari]) (1.15.4)\n",
      "Requirement already satisfied: scipy in /usr/local/lib/python3.6/dist-packages (from gym[atari]) (1.1.0)\n",
      "Requirement already satisfied: pyglet>=1.2.0 in /usr/local/lib/python3.6/dist-packages (from gym[atari]) (1.3.2)\n",
      "Requirement already satisfied: requests>=2.0 in /usr/local/lib/python3.6/dist-packages (from gym[atari]) (2.20.1)\n",
      "Requirement already satisfied: six in /usr/local/lib/python3.6/dist-packages (from gym[atari]) (1.11.0)\n",
      "Requirement already satisfied: Pillow; extra == \"atari\" in /usr/local/lib/python3.6/dist-packages (from gym[atari]) (5.3.0)\n",
      "Requirement already satisfied: PyOpenGL; extra == \"atari\" in /usr/local/lib/python3.6/dist-packages (from gym[atari]) (3.1.0)\n",
      "Collecting atari-py>=0.1.4; extra == \"atari\" (from gym[atari])\n",
      "  Downloading https://files.pythonhosted.org/packages/12/23/96ce488af867646277d91c3c9a1f328a5452240fe51df0a5fdf9211d76e0/atari_py-0.1.7-cp36-cp36m-manylinux1_x86_64.whl (2.6MB)\n",
      "Requirement already satisfied: future in /usr/local/lib/python3.6/dist-packages (from pyglet>=1.2.0->gym[atari]) (0.17.1)\n",
      "Requirement already satisfied: urllib3<1.25,>=1.21.1 in /usr/local/lib/python3.6/dist-packages (from requests>=2.0->gym[atari]) (1.24.1)\n",
      "Requirement already satisfied: certifi>=2017.4.17 in /usr/local/lib/python3.6/dist-packages (from requests>=2.0->gym[atari]) (2018.10.15)\n",
      "Requirement already satisfied: chardet<3.1.0,>=3.0.2 in /usr/local/lib/python3.6/dist-packages (from requests>=2.0->gym[atari]) (3.0.4)\n",
      "Requirement already satisfied: idna<2.8,>=2.5 in /usr/local/lib/python3.6/dist-packages (from requests>=2.0->gym[atari]) (2.7)\n",
      "Installing collected packages: atari-py\n",
      "Successfully installed atari-py-0.1.7\n",
      "Collecting ray==0.6.5\n",
      "  Downloading https://files.pythonhosted.org/packages/9d/cf/63b2df9a8f13a322cbc95995c8d8fc43580b203757fa195af5e53d8fe5e0/ray-0.6.5-cp36-cp36m-manylinux1_x86_64.whl (54.4MB)\n",
      "Requirement already satisfied, skipping upgrade: six>=1.0.0 in /usr/local/lib/python3.6/dist-packages (from ray==0.6.5) (1.11.0)\n",
      "Requirement already satisfied, skipping upgrade: numpy>=1.14 in /usr/local/lib/python3.6/dist-packages (from ray==0.6.5) (1.15.4)\n",
      "Requirement already satisfied, skipping upgrade: click in /usr/local/lib/python3.6/dist-packages (from ray==0.6.5) (7.0)\n",
      "Requirement already satisfied, skipping upgrade: redis in /usr/local/lib/python3.6/dist-packages (from ray==0.6.5) (2.10.6)\n",
      "Requirement already satisfied, skipping upgrade: flatbuffers in /usr/local/lib/python3.6/dist-packages (from ray==0.6.5) (1.10)\n",
      "Requirement already satisfied, skipping upgrade: pytest in /usr/local/lib/python3.6/dist-packages (from ray==0.6.5) (4.0.1)\n",
      "Requirement already satisfied, skipping upgrade: colorama in /usr/local/lib/python3.6/dist-packages (from ray==0.6.5) (0.4.1)\n",
      "Collecting typing (from ray==0.6.5)\n",
      "  Downloading https://files.pythonhosted.org/packages/4a/bd/eee1157fc2d8514970b345d69cb9975dcd1e42cd7e61146ed841f6e68309/typing-3.6.6-py3-none-any.whl\n",
      "Collecting filelock (from ray==0.6.5)\n",
      "  Downloading https://files.pythonhosted.org/packages/d7/ca/3c74396a9ed8a4cfab5459800edeef9a1269591cb21f5a49bd71a49c5fa2/filelock-3.0.10-py3-none-any.whl\n",
      "Requirement already satisfied, skipping upgrade: pyyaml in /usr/local/lib/python3.6/dist-packages (from ray==0.6.5) (3.13)\n",
      "Requirement already satisfied, skipping upgrade: funcsigs in /usr/local/lib/python3.6/dist-packages (from ray==0.6.5) (1.0.2)\n",
      "Requirement already satisfied, skipping upgrade: atomicwrites>=1.0 in /usr/local/lib/python3.6/dist-packages (from pytest->ray==0.6.5) (1.2.1)\n",
      "Requirement already satisfied, skipping upgrade: pluggy>=0.7 in /usr/local/lib/python3.6/dist-packages (from pytest->ray==0.6.5) (0.8.0)\n",
      "Requirement already satisfied, skipping upgrade: setuptools in /usr/local/lib/python3.6/dist-packages (from pytest->ray==0.6.5) (41.0.1)\n",
      "Requirement already satisfied, skipping upgrade: attrs>=17.4.0 in /usr/local/lib/python3.6/dist-packages (from pytest->ray==0.6.5) (18.2.0)\n",
      "Requirement already satisfied, skipping upgrade: py>=1.5.0 in /usr/local/lib/python3.6/dist-packages (from pytest->ray==0.6.5) (1.7.0)\n",
      "Requirement already satisfied, skipping upgrade: more-itertools>=4.0.0 in /usr/local/lib/python3.6/dist-packages (from pytest->ray==0.6.5) (4.3.0)\n",
      "Installing collected packages: typing, filelock, ray\n",
      "  Found existing installation: ray 0.5.3\n",
      "    Uninstalling ray-0.5.3:\n",
      "      Successfully uninstalled ray-0.5.3\n",
      "Successfully installed filelock-3.0.10 ray-0.6.5 typing-3.6.6\n",
      "\u001b[91m/sbin/ldconfig.real: File /usr/lib/x86_64-linux-gnu/libnvidia-cfg.so.396.44 is empty, not checked.\n",
      "/sbin/ldconfig.real: File /usr/lib/x86_64-linux-gnu/libcuda.so.1 is empty, not checked.\n",
      "/sbin/ldconfig.real: File /usr/lib/x86_64-linux-gnu/libcuda.so.396.44 is empty, not checked.\n",
      "/sbin/ldconfig.real: File /usr/lib/x86_64-linux-gnu/libnvidia-ptxjitcompiler.so.1 is empty, not checked.\n",
      "\u001b[0m\u001b[91m/sbin/ldconfig.real: File /usr/lib/x86_64-linux-gnu/libnvidia-opencl.so.1 is empty, not checked.\n",
      "/sbin/ldconfig.real: File /usr/lib/x86_64-linux-gnu/libnvidia-ptxjitcompiler.so.396.44 is empty, not checked.\n",
      "/sbin/ldconfig.real: File /usr/lib/x86_64-linux-gnu/libcuda.so is empty, not checked.\n",
      "/sbin/ldconfig.real: File /usr/lib/x86_64-linux-gnu/libnvidia-opencl.so.396.44 is empty, not checked.\n",
      "/sbin/ldconfig.real: File /usr/lib/x86_64-linux-gnu/libnvidia-ml.so.1 is empty, not checked.\n",
      "/sbin/ldconfig.real: File /usr/lib/x86_64-linux-gnu/libnvidia-ml.so.396.44 is empty, not checked.\n",
      "/sbin/ldconfig.real: File /usr/lib/x86_64-linux-gnu/libnvidia-fatbinaryloader.so.396.44 is empty, not checked.\n",
      "/sbin/ldconfig.real: File /usr/lib/x86_64-linux-gnu/libnvidia-cfg.so.1 is empty, not checked.\n",
      "/sbin/ldconfig.real: File /usr/lib/x86_64-linux-gnu/libnvidia-compiler.so.396.44 is empty, not checked.\n"
     ]
    },
    {
     "name": "stdout",
     "output_type": "stream",
     "text": [
      "\u001b[0mRemoving intermediate container 6925c8d41742\n",
      " ---> 527d372c22de\n",
      "Step 8/12 : RUN pip install setproctitle\n",
      " ---> Running in 14e70543395b\n",
      "Collecting setproctitle\n",
      "  Downloading https://files.pythonhosted.org/packages/5a/0d/dc0d2234aacba6cf1a729964383e3452c52096dc695581248b548786f2b3/setproctitle-1.1.10.tar.gz\n",
      "Building wheels for collected packages: setproctitle\n",
      "  Building wheel for setproctitle (setup.py): started\n",
      "  Building wheel for setproctitle (setup.py): finished with status 'done'\n",
      "  Stored in directory: /root/.cache/pip/wheels/e6/b1/a6/9719530228e258eba904501fef99d5d85c80d52bd8f14438a3\n",
      "Successfully built setproctitle\n",
      "Installing collected packages: setproctitle\n",
      "Successfully installed setproctitle-1.1.10\n",
      "Removing intermediate container 14e70543395b\n",
      " ---> 94e0dd3259f4\n",
      "Step 9/12 : RUN pip install sagemaker-containers --upgrade\n",
      " ---> Running in 7dfb2088f03c\n",
      "Collecting sagemaker-containers\n",
      "  Downloading https://files.pythonhosted.org/packages/be/9b/b67a291854dd86b08ca9bf327d3ad599da8c6dc48309a06b83796d5fa5ee/sagemaker_containers-2.4.6.tar.gz (46kB)\n",
      "Requirement already satisfied, skipping upgrade: numpy in /usr/local/lib/python3.6/dist-packages (from sagemaker-containers) (1.15.4)\n",
      "Requirement already satisfied, skipping upgrade: boto3 in /usr/local/lib/python3.6/dist-packages (from sagemaker-containers) (1.9.50)\n",
      "Requirement already satisfied, skipping upgrade: six in /usr/local/lib/python3.6/dist-packages (from sagemaker-containers) (1.11.0)\n",
      "Requirement already satisfied, skipping upgrade: pip in /usr/local/lib/python3.6/dist-packages (from sagemaker-containers) (19.0.3)\n",
      "Requirement already satisfied, skipping upgrade: flask in /usr/local/lib/python3.6/dist-packages (from sagemaker-containers) (1.0.2)\n",
      "Requirement already satisfied, skipping upgrade: gunicorn in /usr/local/lib/python3.6/dist-packages (from sagemaker-containers) (19.9.0)\n",
      "Requirement already satisfied, skipping upgrade: typing in /usr/local/lib/python3.6/dist-packages (from sagemaker-containers) (3.6.6)\n",
      "Requirement already satisfied, skipping upgrade: gevent in /usr/local/lib/python3.6/dist-packages (from sagemaker-containers) (1.3.7)\n",
      "Requirement already satisfied, skipping upgrade: inotify_simple in /usr/local/lib/python3.6/dist-packages (from sagemaker-containers) (1.1.8)\n",
      "Requirement already satisfied, skipping upgrade: werkzeug in /usr/local/lib/python3.6/dist-packages (from sagemaker-containers) (0.14.1)\n",
      "Collecting paramiko==2.4.2 (from sagemaker-containers)\n",
      "  Downloading https://files.pythonhosted.org/packages/cf/ae/94e70d49044ccc234bfdba20114fa947d7ba6eb68a2e452d89b920e62227/paramiko-2.4.2-py2.py3-none-any.whl (193kB)\n",
      "Collecting psutil==5.4.8 (from sagemaker-containers)\n",
      "  Downloading https://files.pythonhosted.org/packages/e3/58/0eae6e4466e5abf779d7e2b71fac7fba5f59e00ea36ddb3ed690419ccb0f/psutil-5.4.8.tar.gz (422kB)\n",
      "Requirement already satisfied, skipping upgrade: s3transfer<0.2.0,>=0.1.10 in /usr/local/lib/python3.6/dist-packages (from boto3->sagemaker-containers) (0.1.13)\n",
      "Requirement already satisfied, skipping upgrade: botocore<1.13.0,>=1.12.50 in /usr/local/lib/python3.6/dist-packages (from boto3->sagemaker-containers) (1.12.50)\n",
      "Requirement already satisfied, skipping upgrade: jmespath<1.0.0,>=0.7.1 in /usr/local/lib/python3.6/dist-packages (from boto3->sagemaker-containers) (0.9.3)\n",
      "Requirement already satisfied, skipping upgrade: itsdangerous>=0.24 in /usr/local/lib/python3.6/dist-packages (from flask->sagemaker-containers) (1.1.0)\n",
      "Requirement already satisfied, skipping upgrade: Jinja2>=2.10 in /usr/local/lib/python3.6/dist-packages (from flask->sagemaker-containers) (2.10)\n",
      "Requirement already satisfied, skipping upgrade: click>=5.1 in /usr/local/lib/python3.6/dist-packages (from flask->sagemaker-containers) (7.0)\n",
      "Requirement already satisfied, skipping upgrade: greenlet>=0.4.14; platform_python_implementation == \"CPython\" in /usr/local/lib/python3.6/dist-packages (from gevent->sagemaker-containers) (0.4.15)\n",
      "Collecting cryptography>=1.5 (from paramiko==2.4.2->sagemaker-containers)\n",
      "  Downloading https://files.pythonhosted.org/packages/5b/12/b0409a94dad366d98a8eee2a77678c7a73aafd8c0e4b835abea634ea3896/cryptography-2.6.1-cp34-abi3-manylinux1_x86_64.whl (2.3MB)\n",
      "Collecting pynacl>=1.0.1 (from paramiko==2.4.2->sagemaker-containers)\n",
      "  Downloading https://files.pythonhosted.org/packages/27/15/2cd0a203f318c2240b42cd9dd13c931ddd61067809fee3479f44f086103e/PyNaCl-1.3.0-cp34-abi3-manylinux1_x86_64.whl (759kB)\n",
      "Collecting pyasn1>=0.1.7 (from paramiko==2.4.2->sagemaker-containers)\n",
      "  Downloading https://files.pythonhosted.org/packages/7b/7c/c9386b82a25115cccf1903441bba3cbadcfae7b678a20167347fa8ded34c/pyasn1-0.4.5-py2.py3-none-any.whl (73kB)\n",
      "Collecting bcrypt>=3.1.3 (from paramiko==2.4.2->sagemaker-containers)\n",
      "  Downloading https://files.pythonhosted.org/packages/d0/79/79a4d167a31cc206117d9b396926615fa9c1fdbd52017bcced80937ac501/bcrypt-3.1.6-cp34-abi3-manylinux1_x86_64.whl (55kB)\n",
      "Requirement already satisfied, skipping upgrade: urllib3<1.25,>=1.20; python_version >= \"3.4\" in /usr/local/lib/python3.6/dist-packages (from botocore<1.13.0,>=1.12.50->boto3->sagemaker-containers) (1.24.1)\n",
      "Requirement already satisfied, skipping upgrade: python-dateutil<3.0.0,>=2.1; python_version >= \"2.7\" in /usr/local/lib/python3.6/dist-packages (from botocore<1.13.0,>=1.12.50->boto3->sagemaker-containers) (2.7.5)\n",
      "Requirement already satisfied, skipping upgrade: docutils>=0.10 in /usr/local/lib/python3.6/dist-packages (from botocore<1.13.0,>=1.12.50->boto3->sagemaker-containers) (0.14)\n",
      "Requirement already satisfied, skipping upgrade: MarkupSafe>=0.23 in /usr/local/lib/python3.6/dist-packages (from Jinja2>=2.10->flask->sagemaker-containers) (1.1.0)\n",
      "Collecting asn1crypto>=0.21.0 (from cryptography>=1.5->paramiko==2.4.2->sagemaker-containers)\n",
      "  Downloading https://files.pythonhosted.org/packages/ea/cd/35485615f45f30a510576f1a56d1e0a7ad7bd8ab5ed7cdc600ef7cd06222/asn1crypto-0.24.0-py2.py3-none-any.whl (101kB)\n",
      "Collecting cffi!=1.11.3,>=1.8 (from cryptography>=1.5->paramiko==2.4.2->sagemaker-containers)\n",
      "  Downloading https://files.pythonhosted.org/packages/5f/bf/6aa1925384c23ffeb579e97a5569eb9abce41b6310b329352b8252cee1c3/cffi-1.12.3-cp36-cp36m-manylinux1_x86_64.whl (430kB)\n",
      "Collecting pycparser (from cffi!=1.11.3,>=1.8->cryptography>=1.5->paramiko==2.4.2->sagemaker-containers)\n",
      "  Downloading https://files.pythonhosted.org/packages/68/9e/49196946aee219aead1290e00d1e7fdeab8567783e83e1b9ab5585e6206a/pycparser-2.19.tar.gz (158kB)\n",
      "Building wheels for collected packages: sagemaker-containers, psutil, pycparser\n",
      "  Building wheel for sagemaker-containers (setup.py): started\n",
      "  Building wheel for sagemaker-containers (setup.py): finished with status 'done'\n",
      "  Stored in directory: /root/.cache/pip/wheels/3e/57/a5/74e46eeaf0a3b398dba3964df84c264456553d6cb02a60dd9c\n",
      "  Building wheel for psutil (setup.py): started\n",
      "  Building wheel for psutil (setup.py): finished with status 'done'\n",
      "  Stored in directory: /root/.cache/pip/wheels/d2/71/40/9c6993129f8cda369d0f21c46a13a6adab7fb1664fe6512551\n",
      "  Building wheel for pycparser (setup.py): started\n",
      "  Building wheel for pycparser (setup.py): finished with status 'done'\n",
      "  Stored in directory: /root/.cache/pip/wheels/f2/9a/90/de94f8556265ddc9d9c8b271b0f63e57b26fb1d67a45564511\n",
      "Successfully built sagemaker-containers psutil pycparser\n",
      "Installing collected packages: asn1crypto, pycparser, cffi, cryptography, pynacl, pyasn1, bcrypt, paramiko, psutil, sagemaker-containers\n",
      "  Found existing installation: sagemaker-containers 2.3.5\n",
      "    Uninstalling sagemaker-containers-2.3.5:\n",
      "      Successfully uninstalled sagemaker-containers-2.3.5\n",
      "Successfully installed asn1crypto-0.24.0 bcrypt-3.1.6 cffi-1.12.3 cryptography-2.6.1 paramiko-2.4.2 psutil-5.4.8 pyasn1-0.4.5 pycparser-2.19 pynacl-1.3.0 sagemaker-containers-2.4.6\n",
      "Removing intermediate container 7dfb2088f03c\n",
      " ---> 4866e39fc999\n",
      "Step 10/12 : ENV PYTHONUNBUFFERED 1\n",
      " ---> Running in 33da1e0f484d\n",
      "Removing intermediate container 33da1e0f484d\n",
      " ---> 11351b64e5cc\n",
      "Step 11/12 : RUN python -c \"import gym;import sagemaker_containers.cli.train; import ray; from sagemaker_containers.cli.train import main\"\n",
      " ---> Running in cfa2d230ffe7\n",
      "Removing intermediate container cfa2d230ffe7\n",
      " ---> 4bb0bb10683f\n",
      "Step 12/12 : WORKDIR /opt/ml/code\n",
      " ---> Running in c59dce2cafdc\n",
      "Removing intermediate container c59dce2cafdc\n",
      " ---> 7576f03fa029\n",
      "Successfully built 7576f03fa029\n"
     ]
    },
    {
     "name": "stdout",
     "output_type": "stream",
     "text": [
      "Successfully tagged sagemaker-gym-ray-gpu:latest\n",
      "Done building docker image sagemaker-gym-ray-gpu\n",
      "ECR repository already exists: sagemaker-gym-ray-gpu\n",
      "WARNING! Using --password via the CLI is insecure. Use --password-stdin.\n",
      "WARNING! Your password will be stored unencrypted in /home/ec2-user/.docker/config.json.\n",
      "Configure a credential helper to remove this warning. See\n",
      "https://docs.docker.com/engine/reference/commandline/login/#credentials-store\n",
      "\n",
      "Login Succeeded\n",
      "Logged into ECR\n",
      "$ docker tag sagemaker-gym-ray-gpu 413953306596.dkr.ecr.ap-northeast-1.amazonaws.com/sagemaker-gym-ray-gpu\n",
      "Pushing docker image to ECR repository 413953306596.dkr.ecr.ap-northeast-1.amazonaws.com/sagemaker-gym-ray-gpu\n",
      "\n",
      "$ docker push 413953306596.dkr.ecr.ap-northeast-1.amazonaws.com/sagemaker-gym-ray-gpu\n",
      "The push refers to repository [413953306596.dkr.ecr.ap-northeast-1.amazonaws.com/sagemaker-gym-ray-gpu]\n",
      "7932d1193c65: Preparing\n",
      "eb290e94d1ea: Preparing\n",
      "19e45b4c903e: Preparing\n",
      "89162613efa5: Preparing\n",
      "ac6aaa11cd5e: Preparing\n",
      "6b969154a20a: Preparing\n",
      "b45e390179c4: Preparing\n",
      "2acf39a8b48b: Preparing\n",
      "034dc2c07b9e: Preparing\n",
      "d56186dc2f5e: Preparing\n",
      "36cb14e2633d: Preparing\n",
      "5a9c8dc260f7: Preparing\n",
      "8aac526fdc01: Preparing\n",
      "b57fe89d7ca1: Preparing\n",
      "302af95b9e68: Preparing\n",
      "1b7c37db47f8: Preparing\n",
      "4ebe216077d5: Preparing\n",
      "88812efafaa2: Preparing\n",
      "a26889aca8a4: Preparing\n",
      "a0776517737a: Preparing\n",
      "621c51016399: Preparing\n",
      "145eb658aaf0: Preparing\n",
      "e6c3a9c7c79e: Preparing\n",
      "f1dfa8049aa6: Preparing\n",
      "79109c0f8a0b: Preparing\n",
      "33db8ccd260b: Preparing\n",
      "b8c891f0ffec: Preparing\n",
      "302af95b9e68: Waiting\n",
      "1b7c37db47f8: Waiting\n",
      "4ebe216077d5: Waiting\n",
      "88812efafaa2: Waiting\n",
      "a26889aca8a4: Waiting\n",
      "a0776517737a: Waiting\n",
      "621c51016399: Waiting\n",
      "145eb658aaf0: Waiting\n",
      "e6c3a9c7c79e: Waiting\n",
      "f1dfa8049aa6: Waiting\n",
      "79109c0f8a0b: Waiting\n",
      "33db8ccd260b: Waiting\n",
      "b8c891f0ffec: Waiting\n",
      "6b969154a20a: Waiting\n",
      "b45e390179c4: Waiting\n",
      "2acf39a8b48b: Waiting\n",
      "034dc2c07b9e: Waiting\n",
      "d56186dc2f5e: Waiting\n",
      "36cb14e2633d: Waiting\n",
      "5a9c8dc260f7: Waiting\n",
      "8aac526fdc01: Waiting\n",
      "b57fe89d7ca1: Waiting\n",
      "ac6aaa11cd5e: Layer already exists\n",
      "6b969154a20a: Layer already exists\n",
      "b45e390179c4: Layer already exists\n",
      "2acf39a8b48b: Layer already exists\n",
      "034dc2c07b9e: Layer already exists\n",
      "d56186dc2f5e: Layer already exists\n",
      "7932d1193c65: Pushed\n",
      "36cb14e2633d: Layer already exists\n",
      "5a9c8dc260f7: Layer already exists\n",
      "8aac526fdc01: Layer already exists\n",
      "b57fe89d7ca1: Layer already exists\n",
      "302af95b9e68: Layer already exists\n",
      "1b7c37db47f8: Layer already exists\n",
      "19e45b4c903e: Pushed\n",
      "4ebe216077d5: Layer already exists\n",
      "88812efafaa2: Layer already exists\n",
      "a26889aca8a4: Layer already exists\n",
      "a0776517737a: Layer already exists\n",
      "621c51016399: Layer already exists\n",
      "e6c3a9c7c79e: Layer already exists\n",
      "145eb658aaf0: Layer already exists\n",
      "79109c0f8a0b: Layer already exists\n",
      "33db8ccd260b: Layer already exists\n",
      "f1dfa8049aa6: Layer already exists\n",
      "b8c891f0ffec: Layer already exists\n",
      "eb290e94d1ea: Pushed\n",
      "89162613efa5: Pushed\n",
      "latest: digest: sha256:2e9ca8f8fef6d793645d346f6e02067fad94f34305455c8e25f38d8aed2fbf66 size: 5987\n",
      "Done pushing 413953306596.dkr.ecr.ap-northeast-1.amazonaws.com/sagemaker-gym-ray-gpu\n",
      "Using ECR image 413953306596.dkr.ecr.ap-northeast-1.amazonaws.com/sagemaker-gym-ray-gpu\n",
      "CPU times: user 183 ms, sys: 39.6 ms, total: 222 ms\n",
      "Wall time: 56.9 s\n"
     ]
    }
   ],
   "source": [
    "# RUN THIS CELL AT THE START OF THE LAB\n",
    "\n",
    "# %%time\n",
    "\n",
    "# cpu_or_gpu = 'gpu' if instance_type.startswith('ml.p') else 'cpu'\n",
    "# repository_short_name = \"sagemaker-gym-ray-%s\" % cpu_or_gpu\n",
    "# docker_build_args = {\n",
    "#     'CPU_OR_GPU': cpu_or_gpu, \n",
    "#     'AWS_REGION': boto3.Session().region_name,\n",
    "# }\n",
    "# custom_image_name = build_and_push_docker_image(repository_short_name, build_args=docker_build_args)\n",
    "# print(\"Using ECR image %s\" % custom_image_name)"
   ]
  }
 ],
 "metadata": {
  "accelerator": "GPU",
  "colab": {
   "name": "Sagemaker RL Lab - Summit 2019 - One Click.ipynb",
   "provenance": [],
   "version": "0.3.2"
  },
  "kernelspec": {
   "display_name": "Python 3",
   "language": "python",
   "name": "python3"
  },
  "language_info": {
   "codemirror_mode": {
    "name": "ipython",
    "version": 3
   },
   "file_extension": ".py",
   "mimetype": "text/x-python",
   "name": "python",
   "nbconvert_exporter": "python",
   "pygments_lexer": "ipython3",
   "version": "3.7.1"
  }
 },
 "nbformat": 4,
 "nbformat_minor": 1
}
