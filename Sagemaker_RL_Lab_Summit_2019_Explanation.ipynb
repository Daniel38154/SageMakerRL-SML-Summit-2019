{
  "nbformat": 4,
  "nbformat_minor": 0,
  "metadata": {
    "colab": {
      "name": "Sagemaker RL Lab - Summit 2019 - Explanation.ipynb",
      "version": "0.3.2",
      "provenance": [],
      "collapsed_sections": []
    },
    "kernelspec": {
      "name": "python3",
      "display_name": "Python 3"
    },
    "accelerator": "GPU"
  },
  "cells": [
    {
      "metadata": {
        "id": "0Zv-79trOkkx",
        "colab_type": "text"
      },
      "cell_type": "markdown",
      "source": [
        "# Sagemaker RL Lab - Summit 2019"
      ]
    },
    {
      "metadata": {
        "id": "gbqo0hk7Ornl",
        "colab_type": "text"
      },
      "cell_type": "markdown",
      "source": [
        "Hi! and welcome to the sage maker Reinforcement Learning lab for summit 2019. \n",
        "\n",
        "Reinforcement Learning has been directly responsible for some of the biggest breakthoughs in the field of modern machine learning. "
      ]
    },
    {
      "metadata": {
        "id": "r3euyaRNPabi",
        "colab_type": "text"
      },
      "cell_type": "markdown",
      "source": [
        "Some of the events you may have heard about in the media include [AlphaGo](https://deepmind.com/research/alphago/), [OpenAI Five](https://openai.com/blog/openai-five/) &[ Deepmind's AlphaStar](https://deepmind.com/blog/alphastar-mastering-real-time-strategy-game-starcraft-ii/) - all powered by Reinforcement Learning."
      ]
    },
    {
      "metadata": {
        "id": "CMV7je4yQ-9d",
        "colab_type": "text"
      },
      "cell_type": "markdown",
      "source": [
        "Outside of games however, we are beginning to see more use cases of Reinforcement Learning in the wild. \n",
        "\n",
        "Including [web stores product recommendations](https://arxiv.org/pdf/1805.02343.pdf),  [  news recommendation](https://towardsdatascience.com/deep-reinforcement-learning-for-news-recommendation-part-1-architecture-5741b1a6ed56), [in the finance industry](https://www.forbes.com/sites/quora/2018/07/25/what-are-the-latest-works-on-reinforcement-learning-in-the-financial-field/#3c35b15b44df) , [Automated Architecture search for Machine Learning using RL](https://ai.googleblog.com/2017/05/using-machine-learning-to-explore.html) ,[End to End  Machine Learning for Self Driving Cars](https://wayve.ai/), and last and most excitingly the field of Robotics where [Deep Reinforcement Learning is exploding!](https://www.therobotreport.com/reinforcement-learning-industrial-robotics/)"
      ]
    },
    {
      "metadata": {
        "id": "o4yYjp5PZF-l",
        "colab_type": "text"
      },
      "cell_type": "markdown",
      "source": [
        "But it all started somewhere, and today's current enthusiam around RL started only 4 years ago, with the release of [Deepmind DQN algorithm in the scientific journal nature in 2015.](https://www.nature.com/articles/nature14236)"
      ]
    },
    {
      "metadata": {
        "id": "fXTYFQcbZu6I",
        "colab_type": "text"
      },
      "cell_type": "markdown",
      "source": [
        "For those who may not be aware, in the DQN paper, Deepmind took several classic atari 2600 games and learnt to play them at human level with just raw pixels values from the screen. \n",
        "\n",
        "When learning to play games, you & I as humans learnt to play this exact same way by just observing the raw images that are being produced by the screen!"
      ]
    },
    {
      "metadata": {
        "id": "iwmKKbAbagr1",
        "colab_type": "text"
      },
      "cell_type": "markdown",
      "source": [
        "But what really set DQN apart from previous work, was that in some instances, the DQN algorithm ***went beyond human level!***"
      ]
    },
    {
      "metadata": {
        "id": "CRclDKACbFVD",
        "colab_type": "text"
      },
      "cell_type": "markdown",
      "source": [
        "Some of you may have seen this before, but in what has now become a famous example of Ai research work, let us watch DQN learning to play the Atari game of breakout at a super human level!"
      ]
    },
    {
      "metadata": {
        "id": "qR_DyES_rBuS",
        "colab_type": "code",
        "colab": {
          "base_uri": "https://localhost:8080/",
          "height": 422
        },
        "cellView": "form",
        "outputId": "a33c4061-6dda-4a8e-f821-38842aa331c9"
      },
      "cell_type": "code",
      "source": [
        "#@title DQN Going Superhuman\n",
        "#@markdown In this now classic video, watch & see how the DQN algorithm learns the absolute best way to play the Atari game of Breakout.\n",
        "from IPython.display import YouTubeVideo \n",
        "YouTubeVideo('TmPfTpjtdgg', width=600, height=400)"
      ],
      "execution_count": 10,
      "outputs": [
        {
          "output_type": "execute_result",
          "data": {
            "text/html": [
              "\n",
              "        <iframe\n",
              "            width=\"600\"\n",
              "            height=\"400\"\n",
              "            src=\"https://www.youtube.com/embed/TmPfTpjtdgg\"\n",
              "            frameborder=\"0\"\n",
              "            allowfullscreen\n",
              "        ></iframe>\n",
              "        "
            ],
            "text/plain": [
              "<IPython.lib.display.YouTubeVideo at 0x7fd495e656a0>"
            ],
            "image/jpeg": "[encoded data removed]"
          },
          "metadata": {
            "tags": []
          },
          "execution_count": 10
        }
      ]
    },
    {
      "metadata": {
        "id": "8iAY3b0kcxeS",
        "colab_type": "code",
        "colab": {
          "base_uri": "https://localhost:8080/",
          "height": 422
        },
        "cellView": "form",
        "outputId": "a9193152-d89c-4b8d-fa0b-52a746cedb5a"
      },
      "cell_type": "code",
      "source": [
        "#@title DQN Training...\n",
        "#@markdown Here we can see a DQN Agent training\n",
        "from IPython.display import YouTubeVideo \n",
        "YouTubeVideo('eG1Ed8PTJ18', width=600, height=400)"
      ],
      "execution_count": 9,
      "outputs": [
        {
          "output_type": "execute_result",
          "data": {
            "text/html": [
              "\n",
              "        <iframe\n",
              "            width=\"600\"\n",
              "            height=\"400\"\n",
              "            src=\"https://www.youtube.com/embed/eG1Ed8PTJ18\"\n",
              "            frameborder=\"0\"\n",
              "            allowfullscreen\n",
              "        ></iframe>\n",
              "        "
            ],
            "text/plain": [
              "<IPython.lib.display.YouTubeVideo at 0x7fd495e65470>"
            ],
            "image/jpeg": "[encoded data removed]"
          },
          "metadata": {
            "tags": []
          },
          "execution_count": 9
        }
      ]
    },
    {
      "metadata": {
        "id": "Qve_sYWte-BW",
        "colab_type": "text"
      },
      "cell_type": "markdown",
      "source": [
        "One thing you might have noticed in the video above is \"hours training\". Unfortunately back in 2015, DQN took 75 hours to train a DQN up to human level.\n",
        "\n",
        "**That is 3.125 days worth of compute time!**"
      ]
    },
    {
      "metadata": {
        "id": "KxmCy9FH1k4E",
        "colab_type": "text"
      },
      "cell_type": "markdown",
      "source": [
        "Things have changed since 2015 however & lucky for us the introduction of DQN kicked off a wave of resurgence in academic study focussing on Reinforcement Learning, [leading to many new algorithms](https://arxiv.org/pdf/1708.07902.pdf), some of which we can see in the image below! \n",
        "\n",
        "Notice how DQN is the middle!\n",
        "\n"
      ]
    },
    {
      "metadata": {
        "id": "KZzMGz8m3H_J",
        "colab_type": "text"
      },
      "cell_type": "markdown",
      "source": [
        "![alt text](https://i.ibb.co/sy9xRF2/Screen-Shot-2019-02-21-at-9-30-09-am.png)\n"
      ]
    },
    {
      "metadata": {
        "id": "T5J09fhf4qe4",
        "colab_type": "text"
      },
      "cell_type": "markdown",
      "source": [
        "."
      ]
    },
    {
      "metadata": {
        "id": "NYvPLqVM32m2",
        "colab_type": "text"
      },
      "cell_type": "markdown",
      "source": [
        "In todays lab we are going to making use of an algorithm developed by Deepmind called \"IMPALA\" which is short hand for[ \"Importance Weighted Actor-Learner Architectures\"](https://arxiv.org/abs/1802.01561). IMPALA is a distant couzin of DQN and is state of the art being [actively used by Deepmind right now for their research. ](https://www.quora.com/Is-Deepmind-AIs-alphastar-a-model-free-or-model-based-RL-model)"
      ]
    },
    {
      "metadata": {
        "id": "Eh3eY9Bs45iX",
        "colab_type": "text"
      },
      "cell_type": "markdown",
      "source": [
        "Unlike DQN, IMPALA allows us to parallelize training of our Reinforcement Learning agents and supports and makes use of both CPUs & GPUs."
      ]
    },
    {
      "metadata": {
        "id": "I1mGnd-66WjT",
        "colab_type": "text"
      },
      "cell_type": "markdown",
      "source": [
        "## We are going to show you how, using AWS, you can parallelize the training of your reinforcment learning algorithms to get insanely fast turn around times & results for your reinforcement learning experiments."
      ]
    },
    {
      "metadata": {
        "id": "3dow-Wqm5Omq",
        "colab_type": "text"
      },
      "cell_type": "markdown",
      "source": [
        "The objective of today's lab is going to be:\n",
        "\n",
        "\n",
        "\n",
        "1.   Make use of a state of the art Reinforcement Learning algorithm (IMPALA) to learn how to play the Atari game of breakout!\n",
        "2.   Make use of Amazon's state of the art compute resources. Instead of 3.125 days of training time, we are going to train our RL Agent to play Atari Breakout in 15 minutes.\n",
        "\n"
      ]
    },
    {
      "metadata": {
        "id": "OJb-2Dufmqs-",
        "colab_type": "code",
        "colab": {}
      },
      "cell_type": "code",
      "source": [
        "!pip install ray[rllib]\n",
        "!pip install ray[debug]\n"
      ],
      "execution_count": 0,
      "outputs": []
    },
    {
      "metadata": {
        "id": "Z06uHa0Om24i",
        "colab_type": "code",
        "colab": {}
      },
      "cell_type": "code",
      "source": [
        "import ray\n",
        "import ray.rllib.agents.ppo as ppo\n",
        "import ray.rllib.agents.impala as impala\n",
        "from ray.tune.logger import pretty_print"
      ],
      "execution_count": 0,
      "outputs": []
    },
    {
      "metadata": {
        "id": "L9qXn99Qm5y5",
        "colab_type": "code",
        "colab": {}
      },
      "cell_type": "code",
      "source": [
        "ray.init()"
      ],
      "execution_count": 0,
      "outputs": []
    },
    {
      "metadata": {
        "id": "FpGLE_SxnZHT",
        "colab_type": "code",
        "colab": {}
      },
      "cell_type": "code",
      "source": [
        "!cat /proc/cpuinfo | grep processor | wc -l"
      ],
      "execution_count": 0,
      "outputs": []
    },
    {
      "metadata": {
        "id": "_PEt6La2nEmc",
        "colab_type": "code",
        "colab": {}
      },
      "cell_type": "code",
      "source": [
        "config = impala.DEFAULT_CONFIG.copy()\n",
        "config[\"num_gpus\"] = 1\n",
        "config[\"num_workers\"] = 2\n",
        "agent = impala.ImpalaAgent(config=config, env=\"BreakoutNoFrameskip-v4\") \n",
        "\n",
        "#IMPALA\n",
        "\n",
        "#CartPole-v0\n",
        "\n",
        "#BreakoutNoFrameskip-v4\n",
        "#BreakoutDeterministic-v4\n",
        "\n",
        "#SpaceInvadersNoFrameskip-v4\n",
        "\n",
        "# Can optionally call agent.restore(path) to load a checkpoint.\n",
        "\n",
        "for i in range(10000):\n",
        "   # Perform one iteration of training the policy with PPO\n",
        "   result = agent.train()\n",
        "   print(pretty_print(result))\n",
        "\n",
        "   if i % 100 == 0:\n",
        "       checkpoint = agent.save()\n",
        "       print(\"checkpoint saved at\", checkpoint)"
      ],
      "execution_count": 0,
      "outputs": []
    },
    {
      "metadata": {
        "id": "DqbdO_e8N6E3",
        "colab_type": "code",
        "colab": {}
      },
      "cell_type": "code",
      "source": [
        "!ls"
      ],
      "execution_count": 0,
      "outputs": []
    },
    {
      "metadata": {
        "id": "DLlmDo1uRYN7",
        "colab_type": "code",
        "colab": {}
      },
      "cell_type": "code",
      "source": [
        "!ls /root/ray_results/"
      ],
      "execution_count": 0,
      "outputs": []
    },
    {
      "metadata": {
        "id": "D6lOBhXMTkN9",
        "colab_type": "code",
        "colab": {}
      },
      "cell_type": "code",
      "source": [
        "!sudo apt-get install zip"
      ],
      "execution_count": 0,
      "outputs": []
    },
    {
      "metadata": {
        "id": "vsJRk36CTo2I",
        "colab_type": "code",
        "colab": {}
      },
      "cell_type": "code",
      "source": [
        "!zip -r rayresults.zip /root/ray_results/IMPALA_BreakoutNoFrameskip-v4_2019-03-23_03-35-07yjaccs4e/"
      ],
      "execution_count": 0,
      "outputs": []
    },
    {
      "metadata": {
        "id": "3v3QWkJvT7A4",
        "colab_type": "code",
        "colab": {}
      },
      "cell_type": "code",
      "source": [
        "!ls"
      ],
      "execution_count": 0,
      "outputs": []
    },
    {
      "metadata": {
        "id": "lnS-bdPoUl5B",
        "colab_type": "code",
        "colab": {}
      },
      "cell_type": "code",
      "source": [
        "from google.colab import files\n",
        "\n",
        "files.download('./rayresults.zip')"
      ],
      "execution_count": 0,
      "outputs": []
    }
  ]
}