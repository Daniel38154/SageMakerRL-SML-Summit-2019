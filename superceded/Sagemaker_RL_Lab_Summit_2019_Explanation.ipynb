{
 "cells": [
  {
   "cell_type": "markdown",
   "metadata": {
    "colab_type": "text",
    "id": "0Zv-79trOkkx"
   },
   "source": [
    "# Sagemaker RL Lab - Summit 2019"
   ]
  },
  {
   "cell_type": "markdown",
   "metadata": {
    "colab_type": "text",
    "id": "gbqo0hk7Ornl"
   },
   "source": [
    "Hi! and welcome to the sage maker Reinforcement Learning lab for summit 2019. \n",
    "\n",
    "Reinforcement Learning has been directly responsible for some of the biggest breakthoughs in the field of modern machine learning. "
   ]
  },
  {
   "cell_type": "markdown",
   "metadata": {
    "colab_type": "text",
    "id": "r3euyaRNPabi"
   },
   "source": [
    "Some of the events you may have heard about in the media include [AlphaGo](https://deepmind.com/research/alphago/), [OpenAI Five](https://openai.com/blog/openai-five/) &[ Deepmind's AlphaStar](https://deepmind.com/blog/alphastar-mastering-real-time-strategy-game-starcraft-ii/) - all powered by Reinforcement Learning."
   ]
  },
  {
   "cell_type": "markdown",
   "metadata": {
    "colab_type": "text",
    "id": "CMV7je4yQ-9d"
   },
   "source": [
    "Outside of games however, we are beginning to see more use cases of Reinforcement Learning in the wild. \n",
    "\n",
    "Including [web stores product recommendations](https://arxiv.org/pdf/1805.02343.pdf),  [  news recommendation](https://towardsdatascience.com/deep-reinforcement-learning-for-news-recommendation-part-1-architecture-5741b1a6ed56), [in the finance industry](https://www.forbes.com/sites/quora/2018/07/25/what-are-the-latest-works-on-reinforcement-learning-in-the-financial-field/#3c35b15b44df) , [Automated Architecture search for Machine Learning using RL](https://ai.googleblog.com/2017/05/using-machine-learning-to-explore.html) ,[End to End  Machine Learning for Self Driving Cars](https://wayve.ai/), and last and most excitingly the field of Robotics where [Deep Reinforcement Learning is exploding!](https://www.therobotreport.com/reinforcement-learning-industrial-robotics/)"
   ]
  },
  {
   "cell_type": "markdown",
   "metadata": {
    "colab_type": "text",
    "id": "o4yYjp5PZF-l"
   },
   "source": [
    "But it all started somewhere, and today's current enthusiam around RL started only 4 years ago, with the release of [Deepmind DQN algorithm in the scientific journal nature in 2015.](https://www.nature.com/articles/nature14236)"
   ]
  },
  {
   "cell_type": "markdown",
   "metadata": {
    "colab_type": "text",
    "id": "fXTYFQcbZu6I"
   },
   "source": [
    "For those who may not be aware, in the DQN paper, Deepmind took several classic atari 2600 games and learnt to play them at human level with just raw pixels values from the screen. \n",
    "\n",
    "When learning to play games, you & I as humans learnt to play this exact same way by just observing the raw images that are being produced by the screen!"
   ]
  },
  {
   "cell_type": "markdown",
   "metadata": {
    "colab_type": "text",
    "id": "iwmKKbAbagr1"
   },
   "source": [
    "But what really set DQN apart from previous work, was that in some instances, the DQN algorithm ***went beyond human level!***"
   ]
  },
  {
   "cell_type": "markdown",
   "metadata": {
    "colab_type": "text",
    "id": "CRclDKACbFVD"
   },
   "source": [
    "Some of you may have seen this before, but in what has now become a famous example of Ai research work, let us watch DQN learning to play the Atari game of breakout at a super human level!"
   ]
  },
  {
   "cell_type": "code",
   "execution_count": 1,
   "metadata": {
    "cellView": "form",
    "colab": {
     "base_uri": "https://localhost:8080/",
     "height": 422
    },
    "colab_type": "code",
    "id": "qR_DyES_rBuS",
    "outputId": "a33c4061-6dda-4a8e-f821-38842aa331c9"
   },
   "outputs": [
    {
     "data": {
      "image/jpeg": "[encoded data removed]",
      "text/html": [
       "\n",
       "        <iframe\n",
       "            width=\"600\"\n",
       "            height=\"400\"\n",
       "            src=\"https://www.youtube.com/embed/TmPfTpjtdgg\"\n",
       "            frameborder=\"0\"\n",
       "            allowfullscreen\n",
       "        ></iframe>\n",
       "        "
      ],
      "text/plain": [
       "<IPython.lib.display.YouTubeVideo at 0x102caf438>"
      ]
     },
     "execution_count": 1,
     "metadata": {},
     "output_type": "execute_result"
    }
   ],
   "source": [
    "#@title DQN Going Superhuman\n",
    "#@markdown In this now classic video, watch & see how the DQN algorithm learns the absolute best way to play the Atari game of Breakout.\n",
    "from IPython.display import YouTubeVideo \n",
    "YouTubeVideo('TmPfTpjtdgg', width=600, height=400)"
   ]
  },
  {
   "cell_type": "code",
   "execution_count": 2,
   "metadata": {
    "cellView": "form",
    "colab": {
     "base_uri": "https://localhost:8080/",
     "height": 422
    },
    "colab_type": "code",
    "id": "8iAY3b0kcxeS",
    "outputId": "a9193152-d89c-4b8d-fa0b-52a746cedb5a"
   },
   "outputs": [
    {
     "data": {
      "image/jpeg": "[encoded data removed]",
      "text/html": [
       "\n",
       "        <iframe\n",
       "            width=\"600\"\n",
       "            height=\"400\"\n",
       "            src=\"https://www.youtube.com/embed/eG1Ed8PTJ18\"\n",
       "            frameborder=\"0\"\n",
       "            allowfullscreen\n",
       "        ></iframe>\n",
       "        "
      ],
      "text/plain": [
       "<IPython.lib.display.YouTubeVideo at 0x102cdf240>"
      ]
     },
     "execution_count": 2,
     "metadata": {},
     "output_type": "execute_result"
    }
   ],
   "source": [
    "#@title DQN Training...\n",
    "#@markdown Here we can see a DQN Agent training\n",
    "from IPython.display import YouTubeVideo \n",
    "YouTubeVideo('eG1Ed8PTJ18', width=600, height=400)"
   ]
  },
  {
   "cell_type": "markdown",
   "metadata": {
    "colab_type": "text",
    "id": "Qve_sYWte-BW"
   },
   "source": [
    "One thing you might have noticed in the video above is \"hours training\". Unfortunately back in 2015, DQN took 75 hours to train a DQN up to human level.\n",
    "\n",
    "**That is 3.125 days worth of compute time!**"
   ]
  },
  {
   "cell_type": "markdown",
   "metadata": {
    "colab_type": "text",
    "id": "KxmCy9FH1k4E"
   },
   "source": [
    "Things have changed since 2015 however & lucky for us the introduction of DQN kicked off a wave of resurgence in academic study focussing on Reinforcement Learning, [leading to many new algorithms](https://arxiv.org/pdf/1708.07902.pdf), some of which we can see in the image below! \n",
    "\n",
    "Notice how DQN is the middle!\n",
    "\n"
   ]
  },
  {
   "cell_type": "markdown",
   "metadata": {
    "colab_type": "text",
    "id": "KZzMGz8m3H_J"
   },
   "source": [
    "![alt text](https://i.ibb.co/sy9xRF2/Screen-Shot-2019-02-21-at-9-30-09-am.png)\n"
   ]
  },
  {
   "cell_type": "markdown",
   "metadata": {
    "colab_type": "text",
    "id": "T5J09fhf4qe4"
   },
   "source": [
    "."
   ]
  },
  {
   "cell_type": "markdown",
   "metadata": {
    "colab_type": "text",
    "id": "NYvPLqVM32m2"
   },
   "source": [
    "In todays lab we are going to making use of an algorithm developed by Deepmind called \"IMPALA\" which is short hand for[ \"Importance Weighted Actor-Learner Architectures\"](https://arxiv.org/abs/1802.01561). IMPALA is a distant couzin of DQN and is state of the art being [actively used by Deepmind right now for their research. ](https://www.quora.com/Is-Deepmind-AIs-alphastar-a-model-free-or-model-based-RL-model)"
   ]
  },
  {
   "cell_type": "markdown",
   "metadata": {
    "colab_type": "text",
    "id": "Eh3eY9Bs45iX"
   },
   "source": [
    "Unlike DQN, IMPALA allows us to parallelize training of our Reinforcement Learning agents and supports and makes use of both CPUs & GPUs."
   ]
  },
  {
   "cell_type": "markdown",
   "metadata": {
    "colab_type": "text",
    "id": "I1mGnd-66WjT"
   },
   "source": [
    "## We are going to show you how, using AWS, you can parallelize the training of your reinforcment learning algorithms to get insanely fast turn around times & results for your reinforcement learning experiments."
   ]
  },
  {
   "cell_type": "markdown",
   "metadata": {
    "colab_type": "text",
    "id": "3dow-Wqm5Omq"
   },
   "source": [
    "The objective of today's lab is going to be:\n",
    "\n",
    "\n",
    "\n",
    "1.   Make use of a state of the art Reinforcement Learning algorithm (IMPALA) to learn how to play the Atari game of breakout!\n",
    "2.   Make use of Amazon's state of the art compute resources. Instead of 3.125 days of training time, we are going to train our RL Agent to play Atari Breakout in 15 minutes.\n",
    "\n"
   ]
  },
  {
   "cell_type": "code",
   "execution_count": 0,
   "metadata": {
    "colab": {},
    "colab_type": "code",
    "id": "OJb-2Dufmqs-"
   },
   "outputs": [],
   "source": [
    "!pip install ray[rllib]\n",
    "!pip install ray[debug]\n"
   ]
  },
  {
   "cell_type": "code",
   "execution_count": 0,
   "metadata": {
    "colab": {},
    "colab_type": "code",
    "id": "Z06uHa0Om24i"
   },
   "outputs": [],
   "source": [
    "import ray\n",
    "import ray.rllib.agents.ppo as ppo\n",
    "import ray.rllib.agents.impala as impala\n",
    "from ray.tune.logger import pretty_print"
   ]
  },
  {
   "cell_type": "code",
   "execution_count": 0,
   "metadata": {
    "colab": {},
    "colab_type": "code",
    "id": "L9qXn99Qm5y5"
   },
   "outputs": [],
   "source": [
    "ray.init()"
   ]
  },
  {
   "cell_type": "code",
   "execution_count": 0,
   "metadata": {
    "colab": {},
    "colab_type": "code",
    "id": "FpGLE_SxnZHT"
   },
   "outputs": [],
   "source": [
    "!cat /proc/cpuinfo | grep processor | wc -l"
   ]
  },
  {
   "cell_type": "code",
   "execution_count": 0,
   "metadata": {
    "colab": {},
    "colab_type": "code",
    "id": "_PEt6La2nEmc"
   },
   "outputs": [],
   "source": [
    "config = impala.DEFAULT_CONFIG.copy()\n",
    "config[\"num_gpus\"] = 1\n",
    "config[\"num_workers\"] = 2\n",
    "agent = impala.ImpalaAgent(config=config, env=\"BreakoutNoFrameskip-v4\") \n",
    "\n",
    "#IMPALA\n",
    "\n",
    "#CartPole-v0\n",
    "\n",
    "#BreakoutNoFrameskip-v4\n",
    "#BreakoutDeterministic-v4\n",
    "\n",
    "#SpaceInvadersNoFrameskip-v4\n",
    "\n",
    "# Can optionally call agent.restore(path) to load a checkpoint.\n",
    "\n",
    "for i in range(10000):\n",
    "   # Perform one iteration of training the policy with PPO\n",
    "   result = agent.train()\n",
    "   print(pretty_print(result))\n",
    "\n",
    "   if i % 100 == 0:\n",
    "       checkpoint = agent.save()\n",
    "       print(\"checkpoint saved at\", checkpoint)"
   ]
  },
  {
   "cell_type": "code",
   "execution_count": 0,
   "metadata": {
    "colab": {},
    "colab_type": "code",
    "id": "DqbdO_e8N6E3"
   },
   "outputs": [],
   "source": [
    "!ls"
   ]
  },
  {
   "cell_type": "code",
   "execution_count": 0,
   "metadata": {
    "colab": {},
    "colab_type": "code",
    "id": "DLlmDo1uRYN7"
   },
   "outputs": [],
   "source": [
    "!ls /root/ray_results/"
   ]
  },
  {
   "cell_type": "code",
   "execution_count": 0,
   "metadata": {
    "colab": {},
    "colab_type": "code",
    "id": "D6lOBhXMTkN9"
   },
   "outputs": [],
   "source": [
    "!sudo apt-get install zip"
   ]
  },
  {
   "cell_type": "code",
   "execution_count": 0,
   "metadata": {
    "colab": {},
    "colab_type": "code",
    "id": "vsJRk36CTo2I"
   },
   "outputs": [],
   "source": [
    "!zip -r rayresults.zip /root/ray_results/IMPALA_BreakoutNoFrameskip-v4_2019-03-23_03-35-07yjaccs4e/"
   ]
  },
  {
   "cell_type": "code",
   "execution_count": 0,
   "metadata": {
    "colab": {},
    "colab_type": "code",
    "id": "3v3QWkJvT7A4"
   },
   "outputs": [],
   "source": [
    "!ls"
   ]
  },
  {
   "cell_type": "code",
   "execution_count": 0,
   "metadata": {
    "colab": {},
    "colab_type": "code",
    "id": "lnS-bdPoUl5B"
   },
   "outputs": [],
   "source": [
    "from google.colab import files\n",
    "\n",
    "files.download('./rayresults.zip')"
   ]
  }
 ],
 "metadata": {
  "accelerator": "GPU",
  "colab": {
   "collapsed_sections": [],
   "name": "Sagemaker RL Lab - Summit 2019 - Explanation.ipynb",
   "provenance": [],
   "version": "0.3.2"
  },
  "kernelspec": {
   "display_name": "Python 3",
   "language": "python",
   "name": "python3"
  },
  "language_info": {
   "codemirror_mode": {
    "name": "ipython",
    "version": 3
   },
   "file_extension": ".py",
   "mimetype": "text/x-python",
   "name": "python",
   "nbconvert_exporter": "python",
   "pygments_lexer": "ipython3",
   "version": "3.7.1"
  }
 },
 "nbformat": 4,
 "nbformat_minor": 1
}
